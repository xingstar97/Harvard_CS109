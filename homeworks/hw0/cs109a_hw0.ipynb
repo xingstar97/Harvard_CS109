{
 "cells": [
  {
   "cell_type": "markdown",
   "metadata": {
    "button": false,
    "new_sheet": false,
    "run_control": {
     "read_only": false
    }
   },
   "source": [
    "# <img style=\"float: left; padding-right: 10px; width: 45px\" src=\"https://raw.githubusercontent.com/Harvard-IACS/2018-CS109A/master/content/styles/iacs.png\"> CS109A Introduction to Data Science \n",
    "\n",
    "## Homework 0: Knowledge Test\n",
    "\n",
    "**Harvard University**<br/>\n",
    "**Fall 2018**<br/>\n",
    "**Instructors**: Pavlos Protopapas and Kevin Rader\n",
    "\n",
    "\n",
    "<hr style='height:2px'>\n",
    "\n",
    "---\n",
    "\n",
    "This is a homework which you must  turn in.\n",
    "\n",
    "This homework has the following intentions:\n",
    "\n",
    "1. To get you familiar with the jupyter/python environment\n",
    "2. You should easily understand these questions and what is being asked. If you struggle, this may not be the right class for you.\n",
    "3. You should be able to understand the intent (if not the exact syntax) of the code and be able to look up google and provide code that is asked of you. If you cannot, this may not be the right class for you.\n",
    "\n"
   ]
  },
  {
   "cell_type": "code",
   "execution_count": 2,
   "metadata": {},
   "outputs": [
    {
     "data": {
      "text/html": [
       "<style>\n",
       "blockquote { background: #AEDE94; }\n",
       "h1 { \n",
       "    padding-top: 25px;\n",
       "    padding-bottom: 25px;\n",
       "    text-align: left; \n",
       "    padding-left: 10px;\n",
       "    background-color: #DDDDDD; \n",
       "    color: black;\n",
       "}\n",
       "h2 { \n",
       "    padding-top: 10px;\n",
       "    padding-bottom: 10px;\n",
       "    text-align: left; \n",
       "    padding-left: 5px;\n",
       "    background-color: #EEEEEE; \n",
       "    color: black;\n",
       "}\n",
       "\n",
       "div.exercise {\n",
       "\tbackground-color: #ffcccc;\n",
       "\tborder-color: #E9967A; \t\n",
       "\tborder-left: 5px solid #800080; \n",
       "\tpadding: 0.5em;\n",
       "}\n",
       "\n",
       "div.exercise-r {\n",
       "\tbackground-color: #fce8e8;\n",
       "\tborder-color: #E9967A; \t\n",
       "\tborder-left: 5px solid #800080; \n",
       "\tpadding: 0.5em;\n",
       "}\n",
       "\n",
       "\n",
       "span.sub-q {\n",
       "\tfont-weight: bold;\n",
       "}\n",
       "div.theme {\n",
       "\tbackground-color: #DDDDDD;\n",
       "\tborder-color: #E9967A; \t\n",
       "\tborder-left: 5px solid #800080; \n",
       "\tpadding: 0.5em;\n",
       "\tfont-size: 18pt;\n",
       "}\n",
       "div.gc { \n",
       "\tbackground-color: #AEDE94;\n",
       "\tborder-color: #E9967A; \t \n",
       "\tborder-left: 5px solid #800080; \n",
       "\tpadding: 0.5em;\n",
       "\tfont-size: 12pt;\n",
       "}\n",
       "p.q1 { \n",
       "    padding-top: 5px;\n",
       "    padding-bottom: 5px;\n",
       "    text-align: left; \n",
       "    padding-left: 5px;\n",
       "    background-color: #EEEEEE; \n",
       "    color: black;\n",
       "}\n",
       "header {\n",
       "   padding-top: 35px;\n",
       "    padding-bottom: 35px;\n",
       "    text-align: left; \n",
       "    padding-left: 10px;\n",
       "    background-color: #DDDDDD; \n",
       "    color: black;\n",
       "}\n",
       "</style>\n",
       "\n"
      ],
      "text/plain": [
       "<IPython.core.display.HTML object>"
      ]
     },
     "execution_count": 2,
     "metadata": {},
     "output_type": "execute_result"
    }
   ],
   "source": [
    "## RUN THIS CELL TO GET THE RIGHT FORMATTING \n",
    "import requests\n",
    "from IPython.core.display import HTML\n",
    "styles = requests.get(\"https://raw.githubusercontent.com/Harvard-IACS/2018-CS109A/master/content/styles/cs109.css\").text\n",
    "HTML(styles)"
   ]
  },
  {
   "cell_type": "markdown",
   "metadata": {
    "button": false,
    "new_sheet": false,
    "run_control": {
     "read_only": false
    }
   },
   "source": [
    "---"
   ]
  },
  {
   "cell_type": "markdown",
   "metadata": {
    "button": false,
    "new_sheet": false,
    "run_control": {
     "read_only": false
    }
   },
   "source": [
    "## Basic Math and Probability/Statistics Calculations"
   ]
  },
  {
   "cell_type": "markdown",
   "metadata": {
    "button": false,
    "new_sheet": false,
    "run_control": {
     "read_only": false
    }
   },
   "source": [
    "We'll start you off with some basic math and statistics problems questions to make sure you have the appropriate background to be comfortable with concepts that will come up in CS 109a."
   ]
  },
  {
   "cell_type": "markdown",
   "metadata": {
    "button": false,
    "new_sheet": false,
    "run_control": {
     "read_only": false
    }
   },
   "source": [
    "### Question 1: Mathiage is What Brings Us Together Today\n",
    "\n",
    "**Matrix Operations**\n",
    "\n",
    "*Complete the following matrix operations (show your work as a markdown/latex notebook cell)*"
   ]
  },
  {
   "cell_type": "markdown",
   "metadata": {
    "button": false,
    "new_sheet": false,
    "run_control": {
     "read_only": false
    }
   },
   "source": [
    "**1.1.** &nbsp;&nbsp;Let &nbsp;&nbsp; $ A =  \\left( \\begin{array}{ccc}\n",
    "3 & 4 & 2 \\\\\n",
    "5 & 6 & 4 \\\\\n",
    "4 & 3 & 4 \\end{array} \\right) \\,\\,$ and  $ \\,\\, B = \\left( \\begin{array}{ccc}\n",
    "1 & 4 & 2 \\\\\n",
    "1 & 9 & 3 \\\\\n",
    "2 & 3 & 3 \\end{array} \\right)\n",
    "$.  \n",
    "\n",
    "Compute &nbsp;$A \\cdot B$.\n",
    "\n"
   ]
  },
  {
   "attachments": {},
   "cell_type": "markdown",
   "metadata": {},
   "source": [
    "**Answer:** &nbsp;&nbsp;\n",
    "\n",
    "$ A \\cdot B =  \\left( \\begin{array}{ccc}\n",
    "(3\\cdot1)+(4\\cdot1)+(2\\cdot2) & (3\\cdot4)+(4\\cdot9)+(2\\cdot3) & (3\\cdot2)+(4\\cdot3)+(2\\cdot3)  \\\\\n",
    "(5\\cdot1)+(6\\cdot1)+(4\\cdot2) & (5\\cdot4)+(6\\cdot9)+(4\\cdot3) & (5\\cdot2)+(6\\cdot3)+(4\\cdot3) \\\\\n",
    "(4\\cdot1)+(3\\cdot1)+(4\\cdot2) & (4\\cdot4)+(3\\cdot9)+(4\\cdot3) & (4\\cdot2)+(3\\cdot3)+(4\\cdot3) \\end{array} \\right)\n",
    "\n",
    "= \\left( \\begin{array}{ccc}\n",
    "11 & 54 & 24 \\\\\n",
    "19 & 86 & 40 \\\\\n",
    "15 & 55 & 29 \\end{array} \\right) $ \n"
   ]
  },
  {
   "cell_type": "markdown",
   "metadata": {},
   "source": [
    "\n",
    "**1.2.** &nbsp;&nbsp;Let &nbsp;&nbsp;\n",
    "$ A =  \\left( \\begin{array}{ccc}\n",
    "0 & 12 & 8 \\\\\n",
    "1 & 15 & 0 \\\\\n",
    "0 & 6 & 3 \\end{array} \\right)$.  \n",
    "\n",
    "Compute &nbsp; $A^{-1}$.  \n"
   ]
  },
  {
   "cell_type": "markdown",
   "metadata": {
    "button": false,
    "new_sheet": false,
    "run_control": {
     "read_only": false
    }
   },
   "source": [
    "**Answer:** &nbsp;&nbsp; Lot's of ways to solve this...this is the way I was taught to do it by hand:\n",
    "\n",
    "$$\\left( \\begin{array}{ccc|ccc}\n",
    "0 & 12 & 8 & 1 & 0 & 0\\\\\n",
    "1 & 15 & 0 & 0 & 1 & 0\\\\\n",
    "0 & 6 & 3 & 0 & 0 & 1\\end{array} \\right) \\stackrel{0.5\\cdot R_1-R_3\\to R_3}{\\implies}\n",
    "\\left( \\begin{array}{ccc|ccc}\n",
    "0 & 12 & 8 & 1 & 0 & 0\\\\\n",
    "1 & 15 & 0 & 0 & 1 & 0\\\\\n",
    "0 & 0  & 1 & \\frac{1}{2} & 0 & -1\\end{array} \\right) \\stackrel{1/12\\cdot (R_1-8R_3)\\to R_1}{\\implies}\n",
    "\\left( \\begin{array}{ccc|ccc}\n",
    "0 & 1 & 0 & -\\frac{1}{4} & 0 & \\frac{2}{3}\\\\\n",
    "1 & 15 & 0 & 0 & 1 & 0\\\\\n",
    "0 & 0  & 1 & \\frac{1}{2} & 0 & -1\\end{array} \\right) \\stackrel{R_2-15R_1\\to R_2}{\\implies}\n",
    "\\left( \\begin{array}{ccc|ccc}\n",
    "0 & 1 & 0 & -\\frac{1}{4} & 0 & \\frac{2}{3}\\\\\n",
    "1 & 0 & 0 & \\frac{15}{4} & 1 & -10\\\\\n",
    "0 & 0  & 1 & \\frac{1}{2} & 0 & -1\\end{array} \\right) \\stackrel{swap(R_1,R_2)}{\\implies}\n",
    "\\left( \\begin{array}{ccc|ccc}\n",
    "1 & 0 & 0 & \\frac{15}{4} & 1 & -10\\\\\n",
    "0 & 1 & 0 & -\\frac{1}{4} & 0 & \\frac{2}{3}\\\\\n",
    "0 & 0  & 1 & \\frac{1}{2} & 0 & -1\\end{array} \\right) $$\n",
    "\n",
    "Thus,\n",
    "$ A^{-1} =  \\left( \\begin{array}{ccc}\n",
    "\\frac{15}{4} & 1 & -10 \\\\\n",
    "-\\frac{1}{4} & 0 & \\frac{2}{3}\\\\\n",
    "\\frac{1}{2} & 0 & -1 \\end{array} \\right) $.\n",
    "\n"
   ]
  },
  {
   "cell_type": "markdown",
   "metadata": {
    "button": false,
    "new_sheet": false,
    "run_control": {
     "read_only": false
    }
   },
   "source": [
    "**Calculus and Probability**\n",
    "\n",
    "*Complete the following (show your work as a markdown/latex notebook cell)*\n",
    "\n",
    "**1.3**. From Wikipedia:\n",
    "\n",
    "  > In mathematical optimization, statistics, econometrics, decision theory, machine learning and computational neuroscience, a loss function or cost function is a function that maps an event or values of one or more variables onto a real number intuitively representing some \"cost\" associated with the event. An optimization problem seeks to minimize a loss function.\n",
    "  \n",
    "   We've generated a cost function on parameters $x,y \\in \\mathcal{R}$  $L(x,y)= 3x^2y - y^3 - 3x^2 - 3y^2 + 2$.  Find the critical points (optima) of $L(x,y)$.\n",
    "\n",
    "\n",
    "\n"
   ]
  },
  {
   "cell_type": "markdown",
   "metadata": {},
   "source": [
    "**Answer:** &nbsp;&nbsp;\n",
    "\n",
    "$L(x,y)= 3x^2y - y^3 - 3x^2 - 3y^2 + 2$\n",
    "\n",
    "$\\begin{align}\n",
    "L_x(x,y) & = 6xy - 6x \\\\\n",
    "L_y(x,y) & = 3x^2 - 3y^2 - 6y \\\\\n",
    "\\end{align}$\n",
    "\n",
    "$\\begin{align}\n",
    "L_x(x,y) & = 0 \\Leftrightarrow 6xy - 6x = 0 \\Leftrightarrow x(y - 1) = 0 \\\\\n",
    "L_y(x,y) & = 0 \\Leftrightarrow 3x^2 - 3y^2 - 6y = 0 \\Leftrightarrow x^2 - y^2 - 2y = 0 \\\\\n",
    "\\end{align}$\n",
    "\n",
    "Solving the above two equations, there are 4 critical solutions: \n",
    "$(0, 0) \\,\\, (0, -2) \\,\\, (\\sqrt{3}, 1) \\,\\, (-\\sqrt{3}, 1)$"
   ]
  },
  {
   "cell_type": "markdown",
   "metadata": {},
   "source": [
    "**1.4**. A central aspect of call center operations is the per minute statistics of caller demographics.  Because of the massive call volumes call centers achieve, these per minute statistics can often take on well-known distributions.  In the CS109 Homework Helpdesk, X and Y are discrete random variables with X measuring the number of female callers per minute and Y the total number of callers per minute.  We've determined historically the joint pmf of (X, Y) and found it to be $$p_{X,Y}(x,y) = e^{-4}\\frac{2^y}{x!(y-x)!}$$ where $y \\in \\mathcal{N}, x \\in [0, y]$ (That is to say the total number of callers in a minute is a non-negative integer and the number of female callers naturally assumes a value between 0 and the total number of callers inclusive).  Find the mean and variance of the marginal distribution of $X$. **(Hint:  Think what values can y take on. A change of variables in your sum from y to y-x may make evaluating the sum easier.)**\n"
   ]
  },
  {
   "cell_type": "markdown",
   "metadata": {},
   "source": [
    "**Answer:** &nbsp;&nbsp;\n",
    "\n",
    "$$p_{X,Y}(x,y) = e^{-4}\\frac{2^y}{x!(y-x)!}$$\n",
    "\n",
    "$$p_{X,Z}(x,z) = e^{-4}\\frac{2^{x+z}}{x!z!}$$\n",
    "\n",
    "$$p_{X,Z}(x,z) = e^{-4}\\frac{{2^x}{2^z}}{x!z!}$$\n",
    "\n",
    "$$p_{X,Z}(x,z) = e^{-4}\\frac{2^x}{x!}\\cdot\\frac{2^z}{z!}$$\n",
    "\n",
    "$$p_{X}(x) = e^{-4}\\frac{2^x}{x!} \\cdot \\sum_{0}^{y} \\frac{2^z}{z!}$$\n",
    "\n",
    "$$p_{X}(x) = e^{-4}\\frac{2^x}{x!} \\cdot \\lim_{a\\to\\infty} \\sum_{0}^{a} \\frac{2^z}{z!}$$\n",
    "\n",
    "$$p_{X}(x) = e^{-4}\\frac{2^x}{x!} \\cdot e^2$$\n",
    "\n",
    "$$p_{X}(x) = e^{-2}\\frac{2^x}{x!}$$\n",
    "\n",
    "Now, $$E(X) = e^{-2} \\cdot \\sum_{x=0}^{y} \\frac{2^x}{x!} \\cdot x$$ \n",
    "\n",
    "Again, let's look at the limit as y gets really large.\n",
    "\n",
    "$$E(X) = e^{-2} \\cdot \\lim_{b\\to\\infty} \\sum_{x=0}^{b} \\frac{2^x}{x!} \\cdot x$$\n",
    "\n",
    "$$E(X) = e^{-2} \\cdot 2e^{2} = 2$$\n",
    "\n",
    "And the variance is $$Var(X) = \\sum_{x=0}^{y} [(x - 2)^{2} \\cdot \\frac{2^x}{x!} \\cdot e^{-2}]$$\n",
    "\n",
    "$$Var(X) = e^{-2} \\cdot \\sum_{x=0}^{y} [x^{2} \\cdot \\frac{2^x}{x!} - 4x \\cdot \\frac{2^x}{x!} + 4 \\cdot \\frac{2^x}{x!}]$$\n",
    "\n",
    "$$Var(X) = e^{-2} \\cdot \\lim_{b\\to\\infty} \\sum_{x=0}^{b} [x^{2} \\cdot \\frac{2^x}{x!} - 4x \\cdot \\frac{2^x}{x!} + 4 \\cdot \\frac{2^x}{x!}]$$\n",
    "\n",
    "$$Var(X) = e^{-2} \\cdot [\\lim_{b\\to\\infty} \\sum_{x=0}^{b} x^{2} \\cdot \\frac{2^x}{x!} - \\lim_{b\\to\\infty} \\sum_{x=0}^{b} 4x \\cdot \\frac{2^x}{x!} + \\lim_{b\\to\\infty} \\sum_{x=0}^{b}4 \\cdot \\frac{2^x}{x!}]$$\n",
    "\n",
    "$$Var(X) = e^{-2} \\cdot [6e^{2} - 8e^{2} + 4e^{2}]$$\n",
    "\n",
    "$$Var(X) = 2$$"
   ]
  },
  {
   "attachments": {},
   "cell_type": "markdown",
   "metadata": {},
   "source": [
    "Taylor series expansion of the exponential function:\n",
    "\n",
    "e^x = 1 + x/1! + x^2/2! + x^3/3! + ...\n",
    "\n",
    "\n",
    "\n",
    "\n",
    "\n",
    "Determine the range of possible values for X and Y.\n",
    "\n",
    "Fix the value of Y to a specific value, and then sum up the probabilities of all outcomes of X for that fixed Y value. This summation gives you the marginal PMF of X for that fixed Y value.\n",
    "\n",
    "Repeat step 2 for each possible value of Y to obtain the marginal PMF of X.\n",
    "\n",
    "\n",
    "\n",
    "\n",
    "Var(X) = E[(X - μ)^2] = ∑((x - μ)^2 * P(X = x))\n",
    "The expectation operator, denoted as E[ ], represents the sum of the products of each possible squared difference, (x - μ)^2, and its corresponding probability, P(X = x)."
   ]
  },
  {
   "cell_type": "code",
   "execution_count": 3,
   "metadata": {
    "button": false,
    "new_sheet": false,
    "run_control": {
     "read_only": false
    }
   },
   "outputs": [],
   "source": [
    "# The line %... is a jupyter \"magic\" command, and is not part of the Python language.\n",
    "# In this case we're just telling the plotting library to draw things on\n",
    "# the notebook, instead of on a separate window.\n",
    "%matplotlib inline\n",
    "# See the \"import ... as ...\" contructs below? They're just aliasing the package names.\n",
    "# That way we can call methods like plt.plot() instead of matplotlib.pyplot.plot().\n",
    "import numpy as np\n",
    "import scipy as sp\n",
    "import pandas as pd\n",
    "import scipy.stats\n",
    "import matplotlib.pyplot as plt"
   ]
  },
  {
   "cell_type": "markdown",
   "metadata": {},
   "source": [
    "**Basic Statistics**\n",
    "\n",
    "*Complete the following: you can perform the calculations by hand (show your work) or using software (include the code and output, screenshots are fine if it is from another platform).*\n",
    "\n",
    "**1.5**. 37 of the 76 female CS concentrators have taken Data Science 1 (DS1) while 50 of the 133 male concentrators haven taken DS1.  Perform a statistical test to determine if interest in Data Science (by taking DS1) is related to sex.  Be sure to state your conclusion."
   ]
  },
  {
   "attachments": {},
   "cell_type": "markdown",
   "metadata": {},
   "source": [
    "A two-proportion Z-test is used to determine whether two proportions are different from each other.\n",
    "\n",
    "The Chi-square test of independence checks whether two variables are likely to be related or not. (gender and taking DS1)\n",
    "\n",
    "Fisher's Exact Test https://online.stat.psu.edu/stat504/lesson/4/4.5\n",
    "Fisher's exact test is used in the analysis of contingency tables. Although in practice it is employed when sample sizes are small, it is valid for all sample sizes. \n",
    "\n",
    "In statistics, a contingency table (also known as a cross tabulation or crosstab) is a type of table in a matrix format that displays the (multivariate) frequency distribution of the variables."
   ]
  },
  {
   "cell_type": "markdown",
   "metadata": {},
   "source": [
    "**Answer**:\n",
    "\n",
    "This can be answered using several different classical hypothesis tests: (i) $z$-test for 2 proportions, (ii) $\\chi^2$ test for independence, (iii) Fisher's exact test, or (iv) logistic regression (other approaches are also reasonable).  All 4 test results are provided below:  \n",
    "\n",
    "The $z$-statistic is calculated for you here, the rest are left up to software:\n",
    "$$z = \\frac{\\hat{p}_1-\\hat{p}_2}{\\sqrt{\\hat{p}_{pooled}(1-\\hat{p}_{pooled})\\left(\\frac{1}{n_1}+\\frac{1}{n_2}\\right)}} = \\frac{0.4868-0.3759}{\\sqrt{0.4163(0.5873)(\\frac{1}{76}+\\frac{1}{133})}} = 1.565$$\n",
    "where $\\hat{p}_1 = 37/76 = 0.4868,\\hat{p}_2 = 50/133 = 0.3759, \\text{ and } \\hat{p}_{pooled} = (37+50)/(76+133) = 0.4163$."
   ]
  },
  {
   "cell_type": "code",
   "execution_count": 12,
   "metadata": {},
   "outputs": [
    {
     "name": "stdout",
     "output_type": "stream",
     "text": [
      "chi2 test of independence: 1 degrees of freendom, statistic = 2.0128746736116727, p value = 0.15596953904839853\n",
      "Fisher exact test: statistic = 2.0128746736116727, p value = 0.15596953904839853\n",
      "two-proportion z test: statistic = 1.56461178592235, p value = 0.15596953904839853\n"
     ]
    }
   ],
   "source": [
    "con_table= [[37,50],\n",
    "            [76-37,133-50]]\n",
    "\n",
    "results = scipy.stats.chi2_contingency (con_table)\n",
    "print(\"chi2 test of independence: {0} degrees of freendom, statistic = {1}, p value = {2}\".format(results[2], results[0], results[1]))\n",
    "\n",
    "results_fisher = scipy.stats.fisher_exact(con_table)\n",
    "print(\"Fisher exact test: statistic = {0}, p value = {1}\".format(results[0], results[1]))\n",
    "\n",
    "results_z = statsmodels.stats.proportion.proportions_ztest(np.array([37,50]), np.array([76,133]))\n",
    "print(\"two-proportion z test: statistic = {0}, p value = {1}\".format(results_z[0], results[1]))\n",
    "# If the count parameter is an integer, it is assumed to represent the number of successes in a single group or sample. \n",
    "# In this case, the function will perform a one-sample z-test to compare the proportion of successes in the sample to a specified null hypothesis value.\n"
   ]
  },
  {
   "cell_type": "code",
   "execution_count": 14,
   "metadata": {},
   "outputs": [
    {
     "name": "stdout",
     "output_type": "stream",
     "text": [
      "Two-sided z-test for proportions: \n",
      " z = 1.56461178592235 , pvalue = 0.11767396368458083\n"
     ]
    }
   ],
   "source": [
    "import statsmodels\n",
    "from statsmodels.stats.proportion import proportions_ztest\n",
    "\n",
    "x = np.array([37,50])\n",
    "n = np.array([76,133])\n",
    "\n",
    "zstat, pvalue = statsmodels.stats.proportion.proportions_ztest(x, n)    \n",
    "print(\"Two-sided z-test for proportions: \\n\",\"z =\",zstat,\", pvalue =\",pvalue)"
   ]
  },
  {
   "cell_type": "code",
   "execution_count": 15,
   "metadata": {},
   "outputs": [
    {
     "name": "stdout",
     "output_type": "stream",
     "text": [
      "Chi-sq test for independence: \n",
      " chi2 = 2.0128746736116727 , pvalue = 0.15596953904839853\n"
     ]
    }
   ],
   "source": [
    "y = n - x\n",
    "\n",
    "cont_table = np.array([y,x])\n",
    "chi2stat, pvalue, df, exp = scipy.stats.chi2_contingency(cont_table)\n",
    "print(\"Chi-sq test for independence: \\n\",\"chi2 =\",chi2stat,\", pvalue =\",pvalue)"
   ]
  },
  {
   "cell_type": "code",
   "execution_count": 16,
   "metadata": {},
   "outputs": [
    {
     "name": "stdout",
     "output_type": "stream",
     "text": [
      "Fisher's Exact Test: \n",
      " estimated odds ratio = 0.6349723217193096 , pvalue = 0.1447189385430197\n"
     ]
    }
   ],
   "source": [
    "OR, pvalue = scipy.stats.fisher_exact(cont_table)\n",
    "print(\"Fisher's Exact Test: \\n\",\"estimated odds ratio =\",OR,\", pvalue =\",pvalue)"
   ]
  },
  {
   "cell_type": "code",
   "execution_count": 26,
   "metadata": {},
   "outputs": [
    {
     "name": "stdout",
     "output_type": "stream",
     "text": [
      "[0 0 0 0 0 0 0 0 0 0 0 0 0 0 0 0 0 0 0 0 0 0 0 0 0 0 0 0 0 0 0 0 0 0 0 0 0\n",
      " 0 0 0 0 0 0 0 0 0 0 0 0 0 0 0 0 0 0 0 0 0 0 0 0 0 0 0 0 0 0 0 0 0 0 0 0 0\n",
      " 0 0 1 1 1 1 1 1 1 1 1 1 1 1 1 1 1 1 1 1 1 1 1 1 1 1 1 1 1 1 1 1 1 1 1 1 1\n",
      " 1 1 1 1 1 1 1 1 1 1 1 1 1 1 1 1 1 1 1 1 1 1 1 1 1 1 1 1 1 1 1 1 1 1 1 1 1\n",
      " 1 1 1 1 1 1 1 1 1 1 1 1 1 1 1 1 1 1 1 1 1 1 1 1 1 1 1 1 1 1 1 1 1 1 1 1 1\n",
      " 1 1 1 1 1 1 1 1 1 1 1 1 1 1 1 1 1 1 1 1 1 1 1 1]\n"
     ]
    },
    {
     "data": {
      "text/plain": [
       "array([[1., 0.],\n",
       "       [1., 0.],\n",
       "       [1., 0.],\n",
       "       [1., 0.],\n",
       "       [1., 0.],\n",
       "       [1., 0.],\n",
       "       [1., 0.],\n",
       "       [1., 0.],\n",
       "       [1., 0.],\n",
       "       [1., 0.],\n",
       "       [1., 0.],\n",
       "       [1., 0.],\n",
       "       [1., 0.],\n",
       "       [1., 0.],\n",
       "       [1., 0.],\n",
       "       [1., 0.],\n",
       "       [1., 0.],\n",
       "       [1., 0.],\n",
       "       [1., 0.],\n",
       "       [1., 0.],\n",
       "       [1., 0.],\n",
       "       [1., 0.],\n",
       "       [1., 0.],\n",
       "       [1., 0.],\n",
       "       [1., 0.],\n",
       "       [1., 0.],\n",
       "       [1., 0.],\n",
       "       [1., 0.],\n",
       "       [1., 0.],\n",
       "       [1., 0.],\n",
       "       [1., 0.],\n",
       "       [1., 0.],\n",
       "       [1., 0.],\n",
       "       [1., 0.],\n",
       "       [1., 0.],\n",
       "       [1., 0.],\n",
       "       [1., 0.],\n",
       "       [1., 0.],\n",
       "       [1., 0.],\n",
       "       [1., 0.],\n",
       "       [1., 0.],\n",
       "       [1., 0.],\n",
       "       [1., 0.],\n",
       "       [1., 0.],\n",
       "       [1., 0.],\n",
       "       [1., 0.],\n",
       "       [1., 0.],\n",
       "       [1., 0.],\n",
       "       [1., 0.],\n",
       "       [1., 0.],\n",
       "       [1., 0.],\n",
       "       [1., 0.],\n",
       "       [1., 0.],\n",
       "       [1., 0.],\n",
       "       [1., 0.],\n",
       "       [1., 0.],\n",
       "       [1., 0.],\n",
       "       [1., 0.],\n",
       "       [1., 0.],\n",
       "       [1., 0.],\n",
       "       [1., 0.],\n",
       "       [1., 0.],\n",
       "       [1., 0.],\n",
       "       [1., 0.],\n",
       "       [1., 0.],\n",
       "       [1., 0.],\n",
       "       [1., 0.],\n",
       "       [1., 0.],\n",
       "       [1., 0.],\n",
       "       [1., 0.],\n",
       "       [1., 0.],\n",
       "       [1., 0.],\n",
       "       [1., 0.],\n",
       "       [1., 0.],\n",
       "       [1., 0.],\n",
       "       [1., 0.],\n",
       "       [1., 1.],\n",
       "       [1., 1.],\n",
       "       [1., 1.],\n",
       "       [1., 1.],\n",
       "       [1., 1.],\n",
       "       [1., 1.],\n",
       "       [1., 1.],\n",
       "       [1., 1.],\n",
       "       [1., 1.],\n",
       "       [1., 1.],\n",
       "       [1., 1.],\n",
       "       [1., 1.],\n",
       "       [1., 1.],\n",
       "       [1., 1.],\n",
       "       [1., 1.],\n",
       "       [1., 1.],\n",
       "       [1., 1.],\n",
       "       [1., 1.],\n",
       "       [1., 1.],\n",
       "       [1., 1.],\n",
       "       [1., 1.],\n",
       "       [1., 1.],\n",
       "       [1., 1.],\n",
       "       [1., 1.],\n",
       "       [1., 1.],\n",
       "       [1., 1.],\n",
       "       [1., 1.],\n",
       "       [1., 1.],\n",
       "       [1., 1.],\n",
       "       [1., 1.],\n",
       "       [1., 1.],\n",
       "       [1., 1.],\n",
       "       [1., 1.],\n",
       "       [1., 1.],\n",
       "       [1., 1.],\n",
       "       [1., 1.],\n",
       "       [1., 1.],\n",
       "       [1., 1.],\n",
       "       [1., 1.],\n",
       "       [1., 1.],\n",
       "       [1., 1.],\n",
       "       [1., 1.],\n",
       "       [1., 1.],\n",
       "       [1., 1.],\n",
       "       [1., 1.],\n",
       "       [1., 1.],\n",
       "       [1., 1.],\n",
       "       [1., 1.],\n",
       "       [1., 1.],\n",
       "       [1., 1.],\n",
       "       [1., 1.],\n",
       "       [1., 1.],\n",
       "       [1., 1.],\n",
       "       [1., 1.],\n",
       "       [1., 1.],\n",
       "       [1., 1.],\n",
       "       [1., 1.],\n",
       "       [1., 1.],\n",
       "       [1., 1.],\n",
       "       [1., 1.],\n",
       "       [1., 1.],\n",
       "       [1., 1.],\n",
       "       [1., 1.],\n",
       "       [1., 1.],\n",
       "       [1., 1.],\n",
       "       [1., 1.],\n",
       "       [1., 1.],\n",
       "       [1., 1.],\n",
       "       [1., 1.],\n",
       "       [1., 1.],\n",
       "       [1., 1.],\n",
       "       [1., 1.],\n",
       "       [1., 1.],\n",
       "       [1., 1.],\n",
       "       [1., 1.],\n",
       "       [1., 1.],\n",
       "       [1., 1.],\n",
       "       [1., 1.],\n",
       "       [1., 1.],\n",
       "       [1., 1.],\n",
       "       [1., 1.],\n",
       "       [1., 1.],\n",
       "       [1., 1.],\n",
       "       [1., 1.],\n",
       "       [1., 1.],\n",
       "       [1., 1.],\n",
       "       [1., 1.],\n",
       "       [1., 1.],\n",
       "       [1., 1.],\n",
       "       [1., 1.],\n",
       "       [1., 1.],\n",
       "       [1., 1.],\n",
       "       [1., 1.],\n",
       "       [1., 1.],\n",
       "       [1., 1.],\n",
       "       [1., 1.],\n",
       "       [1., 1.],\n",
       "       [1., 1.],\n",
       "       [1., 1.],\n",
       "       [1., 1.],\n",
       "       [1., 1.],\n",
       "       [1., 1.],\n",
       "       [1., 1.],\n",
       "       [1., 1.],\n",
       "       [1., 1.],\n",
       "       [1., 1.],\n",
       "       [1., 1.],\n",
       "       [1., 1.],\n",
       "       [1., 1.],\n",
       "       [1., 1.],\n",
       "       [1., 1.],\n",
       "       [1., 1.],\n",
       "       [1., 1.],\n",
       "       [1., 1.],\n",
       "       [1., 1.],\n",
       "       [1., 1.],\n",
       "       [1., 1.],\n",
       "       [1., 1.],\n",
       "       [1., 1.],\n",
       "       [1., 1.],\n",
       "       [1., 1.],\n",
       "       [1., 1.],\n",
       "       [1., 1.],\n",
       "       [1., 1.],\n",
       "       [1., 1.],\n",
       "       [1., 1.],\n",
       "       [1., 1.],\n",
       "       [1., 1.],\n",
       "       [1., 1.],\n",
       "       [1., 1.],\n",
       "       [1., 1.],\n",
       "       [1., 1.],\n",
       "       [1., 1.]])"
      ]
     },
     "execution_count": 26,
     "metadata": {},
     "output_type": "execute_result"
    }
   ],
   "source": [
    "xs = np.repeat([0,1], n, axis=0)\n",
    "X = statsmodels.tools.tools.add_constant(xs)\n",
    "print(xs)\n",
    "X\n",
    "# estimate both intercept and slope"
   ]
  },
  {
   "cell_type": "code",
   "execution_count": 29,
   "metadata": {},
   "outputs": [
    {
     "name": "stdout",
     "output_type": "stream",
     "text": [
      "Optimization terminated successfully.\n",
      "         Current function value: 0.673227\n",
      "         Iterations 4\n"
     ]
    },
    {
     "data": {
      "text/html": [
       "<table class=\"simpletable\">\n",
       "<caption>Logit Regression Results</caption>\n",
       "<tr>\n",
       "  <th>Dep. Variable:</th>           <td>y</td>        <th>  No. Observations:  </th>  <td>   209</td> \n",
       "</tr>\n",
       "<tr>\n",
       "  <th>Model:</th>                 <td>Logit</td>      <th>  Df Residuals:      </th>  <td>   207</td> \n",
       "</tr>\n",
       "<tr>\n",
       "  <th>Method:</th>                 <td>MLE</td>       <th>  Df Model:          </th>  <td>     1</td> \n",
       "</tr>\n",
       "<tr>\n",
       "  <th>Date:</th>            <td>Fri, 12 May 2023</td> <th>  Pseudo R-squ.:     </th> <td>0.008588</td>\n",
       "</tr>\n",
       "<tr>\n",
       "  <th>Time:</th>                <td>16:20:36</td>     <th>  Log-Likelihood:    </th> <td> -140.70</td>\n",
       "</tr>\n",
       "<tr>\n",
       "  <th>converged:</th>             <td>True</td>       <th>  LL-Null:           </th> <td> -141.92</td>\n",
       "</tr>\n",
       "<tr>\n",
       "  <th>Covariance Type:</th>     <td>nonrobust</td>    <th>  LLR p-value:       </th>  <td>0.1184</td> \n",
       "</tr>\n",
       "</table>\n",
       "<table class=\"simpletable\">\n",
       "<tr>\n",
       "    <td></td>       <th>coef</th>     <th>std err</th>      <th>z</th>      <th>P>|z|</th>  <th>[0.025</th>    <th>0.975]</th>  \n",
       "</tr>\n",
       "<tr>\n",
       "  <th>const</th> <td>    0.0526</td> <td>    0.229</td> <td>    0.229</td> <td> 0.819</td> <td>   -0.397</td> <td>    0.502</td>\n",
       "</tr>\n",
       "<tr>\n",
       "  <th>x1</th>    <td>    0.4542</td> <td>    0.291</td> <td>    1.560</td> <td> 0.119</td> <td>   -0.116</td> <td>    1.025</td>\n",
       "</tr>\n",
       "</table>"
      ],
      "text/plain": [
       "<class 'statsmodels.iolib.summary.Summary'>\n",
       "\"\"\"\n",
       "                           Logit Regression Results                           \n",
       "==============================================================================\n",
       "Dep. Variable:                      y   No. Observations:                  209\n",
       "Model:                          Logit   Df Residuals:                      207\n",
       "Method:                           MLE   Df Model:                            1\n",
       "Date:                Fri, 12 May 2023   Pseudo R-squ.:                0.008588\n",
       "Time:                        16:20:36   Log-Likelihood:                -140.70\n",
       "converged:                       True   LL-Null:                       -141.92\n",
       "Covariance Type:            nonrobust   LLR p-value:                    0.1184\n",
       "==============================================================================\n",
       "                 coef    std err          z      P>|z|      [0.025      0.975]\n",
       "------------------------------------------------------------------------------\n",
       "const          0.0526      0.229      0.229      0.819      -0.397       0.502\n",
       "x1             0.4542      0.291      1.560      0.119      -0.116       1.025\n",
       "==============================================================================\n",
       "\"\"\""
      ]
     },
     "execution_count": 29,
     "metadata": {},
     "output_type": "execute_result"
    }
   ],
   "source": [
    "import statsmodels.api as sm\n",
    "xs = np.repeat([0,1], n, axis = 0)\n",
    "ys = np.repeat([0,1,0,1], [x[0], y[0], x[1], y[1]], axis = 0)\n",
    "X = statsmodels.tools.tools.add_constant(xs)\n",
    "model = sm.Logit(ys, X).fit()\n",
    "model.summary()"
   ]
  },
  {
   "cell_type": "code",
   "execution_count": 27,
   "metadata": {},
   "outputs": [
    {
     "name": "stdout",
     "output_type": "stream",
     "text": [
      "Optimization terminated successfully.\n",
      "         Current function value: 0.673227\n",
      "         Iterations 4\n"
     ]
    },
    {
     "data": {
      "text/html": [
       "<table class=\"simpletable\">\n",
       "<caption>Logit Regression Results</caption>\n",
       "<tr>\n",
       "  <th>Dep. Variable:</th>           <td>y</td>        <th>  No. Observations:  </th>  <td>   209</td> \n",
       "</tr>\n",
       "<tr>\n",
       "  <th>Model:</th>                 <td>Logit</td>      <th>  Df Residuals:      </th>  <td>   207</td> \n",
       "</tr>\n",
       "<tr>\n",
       "  <th>Method:</th>                 <td>MLE</td>       <th>  Df Model:          </th>  <td>     1</td> \n",
       "</tr>\n",
       "<tr>\n",
       "  <th>Date:</th>            <td>Fri, 12 May 2023</td> <th>  Pseudo R-squ.:     </th> <td>0.008588</td>\n",
       "</tr>\n",
       "<tr>\n",
       "  <th>Time:</th>                <td>16:16:25</td>     <th>  Log-Likelihood:    </th> <td> -140.70</td>\n",
       "</tr>\n",
       "<tr>\n",
       "  <th>converged:</th>             <td>True</td>       <th>  LL-Null:           </th> <td> -141.92</td>\n",
       "</tr>\n",
       "<tr>\n",
       "  <th>Covariance Type:</th>     <td>nonrobust</td>    <th>  LLR p-value:       </th>  <td>0.1184</td> \n",
       "</tr>\n",
       "</table>\n",
       "<table class=\"simpletable\">\n",
       "<tr>\n",
       "    <td></td>       <th>coef</th>     <th>std err</th>      <th>z</th>      <th>P>|z|</th>  <th>[0.025</th>    <th>0.975]</th>  \n",
       "</tr>\n",
       "<tr>\n",
       "  <th>const</th> <td>    0.0526</td> <td>    0.229</td> <td>    0.229</td> <td> 0.819</td> <td>   -0.397</td> <td>    0.502</td>\n",
       "</tr>\n",
       "<tr>\n",
       "  <th>x1</th>    <td>    0.4542</td> <td>    0.291</td> <td>    1.560</td> <td> 0.119</td> <td>   -0.116</td> <td>    1.025</td>\n",
       "</tr>\n",
       "</table>"
      ],
      "text/plain": [
       "<class 'statsmodels.iolib.summary.Summary'>\n",
       "\"\"\"\n",
       "                           Logit Regression Results                           \n",
       "==============================================================================\n",
       "Dep. Variable:                      y   No. Observations:                  209\n",
       "Model:                          Logit   Df Residuals:                      207\n",
       "Method:                           MLE   Df Model:                            1\n",
       "Date:                Fri, 12 May 2023   Pseudo R-squ.:                0.008588\n",
       "Time:                        16:16:25   Log-Likelihood:                -140.70\n",
       "converged:                       True   LL-Null:                       -141.92\n",
       "Covariance Type:            nonrobust   LLR p-value:                    0.1184\n",
       "==============================================================================\n",
       "                 coef    std err          z      P>|z|      [0.025      0.975]\n",
       "------------------------------------------------------------------------------\n",
       "const          0.0526      0.229      0.229      0.819      -0.397       0.502\n",
       "x1             0.4542      0.291      1.560      0.119      -0.116       1.025\n",
       "==============================================================================\n",
       "\"\"\""
      ]
     },
     "execution_count": 27,
     "metadata": {},
     "output_type": "execute_result"
    }
   ],
   "source": [
    "import statsmodels.api as sm\n",
    "# statsmodels.formula.api.logit:\n",
    "# This function allows you to specify the predictor variables using a formula-like syntax\n",
    "# sm.logit(formula=\"response_variable ~ predictor_variables\", data=data).fit()\n",
    "\n",
    "\n",
    "\n",
    "xs = np.repeat([0,1], n, axis=0)\n",
    "# np.repeat(a, repeats) repeats: The number of repetitions for each element. repeats is broadcasted to fit the shape of the given axis.\n",
    "\n",
    "ys = np.repeat([0,1,0,1], [x[0], y[0],x[1],y[1]], axis=0)\n",
    "\n",
    "# this is just to be sure the data were defined correctly\n",
    "pd.crosstab(ys,xs)\n",
    "\n",
    "X = statsmodels.tools.tools.add_constant(xs)\n",
    "\n",
    "model = sm.Logit(ys,X)\n",
    " \n",
    "model1 = model.fit()\n",
    "\n",
    "model1.summary()"
   ]
  },
  {
   "cell_type": "markdown",
   "metadata": {},
   "source": [
    "All 4 tests have similar results: all 4 p-values hover between 0.118 and 0.156.  Thus, we are unable to reject the null hypothesis (of no difference in CS109A enrollment between the sexes amoung the CS concentrators).  Male and female CS concentrators may truly take CS109A at the same rate."
   ]
  },
  {
   "cell_type": "markdown",
   "metadata": {
    "button": false,
    "new_sheet": false,
    "run_control": {
     "read_only": false
    }
   },
   "source": [
    "------"
   ]
  },
  {
   "cell_type": "markdown",
   "metadata": {
    "button": false,
    "new_sheet": false,
    "run_control": {
     "read_only": false
    }
   },
   "source": [
    "## Simulation of a Coin Throw\n",
    "\n",
    "We'd like to do some experiments with coin flips, but we don't have a physical coin at the moment. So let us **simulate** the process of flipping a coin on a computer. To do this we will use a form of the **random number generator** built into `numpy`. In particular, we will use the function `np.random.choice` which picks items with uniform probability from a list. If we provide it a list ['H', 'T'], it will pick one of the two items in the list. We can also ask it to do this multiple times by specifying the parameter `size`. "
   ]
  },
  {
   "cell_type": "code",
   "execution_count": 16,
   "metadata": {
    "button": false,
    "new_sheet": false,
    "run_control": {
     "read_only": false
    }
   },
   "outputs": [],
   "source": [
    "def throw_a_coin(n_trials):\n",
    "    return np.random.choice(['H','T'], size=n_trials)"
   ]
  },
  {
   "cell_type": "markdown",
   "metadata": {
    "button": false,
    "new_sheet": false,
    "run_control": {
     "read_only": false
    }
   },
   "source": [
    "`np.sum` is a function that returns the sum of items in an iterable (i.e. a list or an array).  Because python coerces `True` to 1 and `False` to 0, the effect of calling `np.sum` on the array of `True`s and `False`s will be to return the number of of `True`s in the array which is the same as the number of heads."
   ]
  },
  {
   "cell_type": "markdown",
   "metadata": {
    "button": false,
    "new_sheet": false,
    "run_control": {
     "read_only": false
    }
   },
   "source": [
    "### Question 2: The 12 Labors of Bernoullis\n",
    "\n",
    "Now that we know how to run our coin flip experiment, we're interested in knowing what happens as we choose larger and larger number of coin flips.\n",
    "\n",
    "\n",
    "**2.1**.  Run one experiment of flipping a coin 40 times storing the resulting sample in the variable `throws1`.   What's the total proportion of heads?\n",
    "\n",
    "**2.2**.  **Replicate** the experiment in 2.1 storing the resulting sample  in the variable `throws2`.   What's the proportion of heads?  How does this result compare to that you obtained in question 2.1?\n",
    "\n",
    "**2.3**.  Write a function  called `run_trials` that takes as input a list, called `n_flips`, of integers representing different values for the number of coin flips in a trial.  For each element in the input list, `run_trials` should run the coin flip experiment with that number of flips and calculate the proportion of heads.  The output of `run_trials` should be the list of calculated proportions.  Store the output of calling `run_trials` in a list called `proportions`.\n",
    "\n",
    "**2.4**.  Using the results in 2.3, reproduce the plot below. \n",
    "<!--of the proportion of observed heads to total coins flipped in the trial when `run_trials` is run for each of the sample sizes in `trials` -->  <img src=\"figs/HW0Plot1.png\"/>\n",
    "\n",
    "**2.5**.  What's the appropriate observation about the result of running the coin flip experiment with larger and larger numbers of coin flips?  Choose the appropriate one from the choices below. \n",
    "\n",
    "> A. Regardless of sample size the probability of in our experiment of observing heads is 0.5 so the proportion of heads observed in the coin-flip experiments will always be 0.5.  \n",
    ">\n",
    "> B. The proportions **fluctuate** about their long-run value of 0.5 (what you might expect if you tossed the coin an infinite amount of times), in accordance with the notion of a fair coin (which we encoded in our simulation by having `np.random.choice` choose between two possibilities with equal probability), with the fluctuations seeming to become much smaller as the number of trials increases.\n",
    ">\n",
    "> C. The proportions **fluctuate** about their long-run value of 0.5 (what you might expect if you tossed the coin an infinite amount of times), in accordance with the notion of a fair coin (which we encoded in our simulation by having `np.random.choice` choose between two possibilities with equal probability), with the fluctuations constant regardless of the number of trials.\n"
   ]
  },
  {
   "cell_type": "code",
   "execution_count": 16,
   "metadata": {},
   "outputs": [
    {
     "name": "stdout",
     "output_type": "stream",
     "text": [
      "Throws1: the proportion of heads is: 0.5 and the proportion of tails is: 0.5\n",
      "Throws2: the proportion of heads is: 0.525 and the proportion of tails is: 0.475\n"
     ]
    }
   ],
   "source": [
    "throws1 = throw_a_coin(40)\n",
    "counts1 = np.unique(throws1, return_counts=True)\n",
    "print(\"Throws1: the proportion of heads is: {0} and the proportion of tails is: {1}\".format(counts1[1][0]/40, counts1[1][1]/40))\n",
    "\n",
    "throws2 = throw_a_coin(40)\n",
    "counts2 = np.unique(throws2, return_counts=True)\n",
    "print(\"Throws2: the proportion of heads is: {0} and the proportion of tails is: {1}\".format(counts2[1][0]/40, counts2[1][1]/40))"
   ]
  },
  {
   "cell_type": "code",
   "execution_count": 24,
   "metadata": {},
   "outputs": [
    {
     "data": {
      "text/plain": [
       "Text(0, 0.5, 'proportions of heads from simulation')"
      ]
     },
     "execution_count": 24,
     "metadata": {},
     "output_type": "execute_result"
    },
    {
     "data": {
      "image/png": "[encoded data removed]",
      "text/plain": [
       "<Figure size 1200x900 with 1 Axes>"
      ]
     },
     "metadata": {},
     "output_type": "display_data"
    }
   ],
   "source": [
    "n_flips = [10, 30, 50, 70, 100, 130, 170, 200, 500, 1000, 2000, 5000, 10000]\n",
    "\n",
    "def run_trials(flips):\n",
    "    proportions = []\n",
    "    for flip in flips:\n",
    "        throw = throw_a_coin(flip)\n",
    "        proportion = np.unique(throw, return_counts=True)[1][0]/flip\n",
    "        proportions.append(proportion)\n",
    "    return proportions\n",
    "\n",
    "proportions = run_trials(n_flips)\n",
    "\n",
    "fig,ax = plt.subplots(1,1, figsize = (12,9))\n",
    "ax.scatter(n_flips, proportions)\n",
    "ax.plot(n_flips, proportions)\n",
    "ax.hlines(0.5, 0, 10000, color = \"red\")\n",
    "ax.set_title(\"Proportions of heads in simulation vs total number of flips\")\n",
    "ax.set_xlabel(\"number of flips\")\n",
    "ax.set_ylabel(\"proportions of heads from simulation\")"
   ]
  },
  {
   "cell_type": "markdown",
   "metadata": {
    "button": false,
    "new_sheet": false,
    "run_control": {
     "read_only": false
    }
   },
   "source": [
    "#### Answers"
   ]
  },
  {
   "cell_type": "markdown",
   "metadata": {
    "button": false,
    "new_sheet": false,
    "run_control": {
     "read_only": false
    }
   },
   "source": [
    "**2.1**"
   ]
  },
  {
   "cell_type": "code",
   "execution_count": 11,
   "metadata": {
    "button": false,
    "new_sheet": false,
    "run_control": {
     "read_only": false
    }
   },
   "outputs": [
    {
     "name": "stdout",
     "output_type": "stream",
     "text": [
      "Throws:  ['T' 'T' 'T' 'H' 'T' 'H' 'T' 'H' 'T' 'T' 'T' 'T' 'T' 'H' 'T' 'H' 'T' 'T'\n",
      " 'T' 'H' 'T' 'T' 'H' 'T' 'H' 'T' 'H' 'H' 'T' 'H' 'T' 'T' 'H' 'H' 'H' 'T'\n",
      " 'T' 'H' 'T' 'H']\n",
      "Number of Heads: 16\n",
      "p2 = Number of Heads/Total Throws: 0.4\n"
     ]
    }
   ],
   "source": [
    "throws1 = throw_a_coin(40)\n",
    "print(\"Throws: \", throws1)\n",
    "print(\"Number of Heads:\", np.sum(throws1 == 'H'))\n",
    "# !!!!!!!\n",
    "print(\"p2 = Number of Heads/Total Throws:\", np.sum(throws1 ==  'H')/40.)"
   ]
  },
  {
   "cell_type": "markdown",
   "metadata": {
    "button": false,
    "new_sheet": false,
    "run_control": {
     "read_only": false
    }
   },
   "source": [
    "**2.2** "
   ]
  },
  {
   "cell_type": "code",
   "execution_count": 12,
   "metadata": {
    "button": false,
    "new_sheet": false,
    "run_control": {
     "read_only": false
    }
   },
   "outputs": [
    {
     "name": "stdout",
     "output_type": "stream",
     "text": [
      "Throws:  ['H' 'T' 'H' 'H' 'H' 'T' 'T' 'H' 'H' 'H' 'H' 'H' 'T' 'H' 'T' 'H' 'H' 'T'\n",
      " 'H' 'T' 'T' 'H' 'H' 'H' 'T' 'T' 'H' 'T' 'T' 'H' 'T' 'T' 'T' 'H' 'T' 'T'\n",
      " 'H' 'T' 'T' 'T']\n",
      "Number of Heads: 20\n",
      "p2 = Number of Heads/Total Throws: 0.5\n"
     ]
    }
   ],
   "source": [
    "throws2 = throw_a_coin(40)\n",
    "print(\"Throws: \",throws2)\n",
    "\n",
    "print(\"Number of Heads:\", np.sum(throws2 == 'H'))\n",
    "print(\"p2 = Number of Heads/Total Throws:\", np.sum(throws2 ==  'H')/40.)"
   ]
  },
  {
   "cell_type": "markdown",
   "metadata": {
    "button": false,
    "new_sheet": false,
    "run_control": {
     "read_only": false
    }
   },
   "source": [
    "**2.3** "
   ]
  },
  {
   "cell_type": "code",
   "execution_count": 13,
   "metadata": {
    "button": false,
    "new_sheet": false,
    "run_control": {
     "read_only": false
    }
   },
   "outputs": [],
   "source": [
    "n_flips = [10, 30, 50, 70, 100, 130, 170, 200, 500, 1000, 2000, 5000, 10000]"
   ]
  },
  {
   "cell_type": "code",
   "execution_count": 14,
   "metadata": {
    "button": false,
    "new_sheet": false,
    "run_control": {
     "read_only": false
    }
   },
   "outputs": [],
   "source": [
    "def run_trials(n_flips: list) -> list:\n",
    "    '''Run one replication of coin flip experiment for each element in trials.\n",
    "       \n",
    "       Args:\n",
    "           n_flips: List of numbers to use as coin flip experiment sizes.\n",
    "       \n",
    "       Returns:\n",
    "           A list of the proportions of heads observed in each coin flip experiment.\n",
    "    '''\n",
    "    \n",
    "    return([np.sum(throw_a_coin(j) == 'H')/np.float(j) for j in n_flips])"
   ]
  },
  {
   "cell_type": "code",
   "execution_count": 15,
   "metadata": {
    "button": false,
    "new_sheet": false,
    "run_control": {
     "read_only": false
    }
   },
   "outputs": [
    {
     "data": {
      "text/plain": [
       "[0.4,\n",
       " 0.5,\n",
       " 0.52,\n",
       " 0.5285714285714286,\n",
       " 0.51,\n",
       " 0.49230769230769234,\n",
       " 0.43529411764705883,\n",
       " 0.535,\n",
       " 0.488,\n",
       " 0.481,\n",
       " 0.5015,\n",
       " 0.4986,\n",
       " 0.4994]"
      ]
     },
     "execution_count": 15,
     "metadata": {},
     "output_type": "execute_result"
    }
   ],
   "source": [
    "proportions = run_trials(n_flips)\n",
    "proportions"
   ]
  },
  {
   "cell_type": "markdown",
   "metadata": {
    "button": false,
    "new_sheet": false,
    "run_control": {
     "read_only": false
    }
   },
   "source": [
    "**2.4** "
   ]
  },
  {
   "cell_type": "code",
   "execution_count": 16,
   "metadata": {},
   "outputs": [],
   "source": [
    "def plot_trials(ax, trials, proportions):\n",
    "    \n",
    "    ax.plot(trials, proportions, 'o-', alpha=0.6);\n",
    "    # !!!!!!!!!\n",
    "    ax.axhline(0.5, 0, 1, color='r');\n",
    "    ax.set_xlabel('number of flips');\n",
    "    ax.set_ylabel('proportions of heads from simulation');\n",
    "    ax.set_title('Proportions of Heads in Simulation vs. Total Numbers of Flips');\n",
    "    \n",
    "    return ax"
   ]
  },
  {
   "cell_type": "code",
   "execution_count": 17,
   "metadata": {},
   "outputs": [
    {
     "data": {
      "image/png": "[encoded data removed]",
      "text/plain": [
       "<Figure size 576x576 with 1 Axes>"
      ]
     },
     "metadata": {
      "needs_background": "light"
     },
     "output_type": "display_data"
    }
   ],
   "source": [
    "fig, ax = plt.subplots(figsize=(8,8))\n",
    "\n",
    "plot_trials(ax, n_flips, proportions);"
   ]
  },
  {
   "cell_type": "markdown",
   "metadata": {
    "button": false,
    "new_sheet": false,
    "run_control": {
     "read_only": false
    }
   },
   "source": [
    "**2.5** "
   ]
  },
  {
   "cell_type": "markdown",
   "metadata": {
    "button": false,
    "new_sheet": false,
    "run_control": {
     "read_only": false
    }
   },
   "source": [
    "B\n"
   ]
  },
  {
   "cell_type": "markdown",
   "metadata": {
    "button": false,
    "new_sheet": false,
    "run_control": {
     "read_only": false
    }
   },
   "source": [
    "## Multiple Replications of the Coin Flip Experiment\n",
    "\n",
    "The coin flip experiment that we did above gave us some insight, but we don't have a good notion of how robust our results are under repetition as we've only run one experiment for each number of coin flips. Lets redo the coin flip experiment, but let's incorporate multiple repetitions of each number of coin flips. For each choice of the number of flips,  $n$, in an experiment, we'll do $M$ replications of the coin tossing experiment."
   ]
  },
  {
   "cell_type": "markdown",
   "metadata": {
    "button": false,
    "new_sheet": false,
    "run_control": {
     "read_only": false
    }
   },
   "source": [
    "### Question 3. So Many Replications\n",
    "\n",
    "**3.1**.  Write a function `make_throws` which takes as arguments the `n_replications` ($M$) and the `n_flips` ($n$), and returns a list (of size $M$) of proportions, with each proportion calculated by taking the ratio of heads to to total number of coin flips in each replication of $n$ coin tosses.  `n_flips` should be a python parameter whose value should default to 20 if unspecified when `make_throws` is called. \n",
    "\n",
    "**3.2**.  Create the variables `proportions_at_n_flips_100` and `proportions_at_n_flips_1000`.  Store in these variables the result of `make_throws` for `n_flips` equal to 100 and 1000 respectively while keeping `n_replications` at 200.  Create a plot with the histograms of `proportions_at_n_flips_100` and `proportions_at_n_flips_1000`.  Make sure to title your plot, label the x-axis and provide a legend.(See below for an example of what the plot may look like) ![](figs/HW0Plot2.png) \n",
    "\n",
    "**3.3**. Calculate the mean and variance of the results in the each of the variables `proportions_at_n_flips_100` and `proportions_at_n_flips_1000` generated in 3.2.\n",
    "\n",
    "**3.4**. Based upon the plots what would be your guess of what type of distribution is represented by histograms in 3.2?  Explain the factors that influenced your choice.\n",
    "> A. Gamma Distribution\n",
    ">\n",
    "> B. Beta Distribution\n",
    ">\n",
    "> C. Gaussian\n",
    "\n",
    "**3.5**. Let's just assume for arguments sake that the answer to 3.4 is **C. Gaussian**.  Plot a **normed histogram** of your results `proportions_at_n_flips_1000` overlayed with your selection for the appropriate gaussian distribution to represent the experiment of flipping a coin 1000 times.   (**Hint:  What parameters should you use for your Gaussian?**)\n"
   ]
  },
  {
   "cell_type": "markdown",
   "metadata": {
    "button": false,
    "new_sheet": false,
    "run_control": {
     "read_only": false
    }
   },
   "source": [
    "#### Answers"
   ]
  },
  {
   "cell_type": "code",
   "execution_count": 27,
   "metadata": {},
   "outputs": [
    {
     "data": {
      "text/plain": [
       "<matplotlib.legend.Legend at 0x7fadec71db90>"
      ]
     },
     "execution_count": 27,
     "metadata": {},
     "output_type": "execute_result"
    },
    {
     "data": {
      "image/png": "[encoded data removed]",
      "text/plain": [
       "<Figure size 1200x900 with 1 Axes>"
      ]
     },
     "metadata": {},
     "output_type": "display_data"
    }
   ],
   "source": [
    "def make_throws(n_replications, n_flips=20):\n",
    "    proportions = []\n",
    "    for throw in range(n_replications):\n",
    "        proportion = np.unique(throw_a_coin(n_flips), return_counts=True)[1][0]/n_flips\n",
    "        proportions.append(proportion)\n",
    "    return proportions\n",
    "\n",
    "proportions_at_n_flips_100 = make_throws(200,100)\n",
    "proportions_at_n_flips_1000 = make_throws(200,1000)\n",
    "\n",
    "fig, ax = plt.subplots(1,1, figsize = (12,9))\n",
    "ax.hist(proportions_at_n_flips_100, label = \"100 flips\", alpha = 0.5)\n",
    "ax.hist(proportions_at_n_flips_1000, label = \"1000 flips\", alpha = 0.5)\n",
    "ax.set_xlabel(\"mean proportin of heads\")\n",
    "ax.set_title(\"Histogram of samples at different numbers of flips\")\n",
    "ax.legend()"
   ]
  },
  {
   "cell_type": "code",
   "execution_count": 43,
   "metadata": {},
   "outputs": [
    {
     "name": "stdout",
     "output_type": "stream",
     "text": [
      "the mean of 100 flips is 0.50125 and the variance is 0.002234937500000001\n",
      "the mean of 1000 flips is 0.5021850000000001 and the variance is 0.0002234407750000003\n"
     ]
    },
    {
     "data": {
      "text/plain": [
       "<matplotlib.legend.Legend at 0x7fadea467f90>"
      ]
     },
     "execution_count": 43,
     "metadata": {},
     "output_type": "execute_result"
    },
    {
     "data": {
      "image/png": "[encoded data removed]",
      "text/plain": [
       "<Figure size 1200x900 with 1 Axes>"
      ]
     },
     "metadata": {},
     "output_type": "display_data"
    }
   ],
   "source": [
    "mean_100 = np.mean(proportions_at_n_flips_100)\n",
    "var_100 = np.var(proportions_at_n_flips_100)\n",
    "print(\"the mean of 100 flips is {0} and the variance is {1}\".format(mean_100, var_100))\n",
    "\n",
    "mean_1000 = np.mean(proportions_at_n_flips_1000)\n",
    "var_1000 = np.var(proportions_at_n_flips_1000)\n",
    "print(\"the mean of 1000 flips is {0} and the variance is {1}\".format(mean_1000, var_1000))\n",
    "\n",
    "# normal = np.random.normal(mean_1000, np.sqrt(var_1000),200)\n",
    "x = np.linspace(0.40,0.60,500)\n",
    "normal = scipy.stats.norm.pdf(x , loc = mean_1000, scale = np.sqrt(var_1000))\n",
    "\n",
    "fig, ax = plt.subplots(1,1, figsize = (12,9))\n",
    "# ax.hist(normal, label = \"normal distribution\", alpha = 0.5)\n",
    "\n",
    "ax.plot(x, normal, label = \"Gaussian\")\n",
    "ax.hist(proportions_at_n_flips_1000, label = \"1000 flips\", alpha = 0.5)\n",
    "ax.set_xlabel(\"mean proportin of heads\")\n",
    "ax.set_title(\"Histogram of samples at different numbers of flips\")\n",
    "ax.legend()\n"
   ]
  },
  {
   "cell_type": "markdown",
   "metadata": {
    "button": false,
    "new_sheet": false,
    "run_control": {
     "read_only": false
    }
   },
   "source": [
    "**3.1**"
   ]
  },
  {
   "cell_type": "code",
   "execution_count": 38,
   "metadata": {
    "button": false,
    "new_sheet": false,
    "run_control": {
     "read_only": false
    }
   },
   "outputs": [],
   "source": [
    "def make_throws(n_replications : int, n_flips = 20) -> list:\n",
    "    \"\"\"\n",
    "    Generate a list of probabilities representing the probability of heads in a sample of fair coins\n",
    "\n",
    "    Args:\n",
    "        n_replications: number of samples or replications\n",
    "        n_flips:  number of coin flips in each replication\n",
    "\n",
    "    Returns:\n",
    "        Array of probabilities of heads, one from each sample or replication\n",
    "\n",
    "    Example\n",
    "    -------\n",
    "    >>> make_throws(number_of_samples = 3, sample_size = 20)\n",
    "    [0.40000000000000002, 0.5, 0.59999999999999998]\n",
    "    \"\"\"\n",
    "    sample_props = []\n",
    "    for i in range(n_replications):\n",
    "        replication = throw_a_coin(n_flips)\n",
    "        mean_of_replication = np.mean(replication == 'H')\n",
    "        sample_props.append(mean_of_replication)\n",
    "    return sample_props\n"
   ]
  },
  {
   "cell_type": "markdown",
   "metadata": {
    "button": false,
    "new_sheet": false,
    "run_control": {
     "read_only": false
    }
   },
   "source": [
    "**3.2**"
   ]
  },
  {
   "cell_type": "code",
   "execution_count": 39,
   "metadata": {
    "button": false,
    "new_sheet": false,
    "run_control": {
     "read_only": false
    }
   },
   "outputs": [],
   "source": [
    "proportions_at_n_flips_100 = make_throws(n_replications=200, n_flips=100)\n",
    "proportions_at_n_flips_1000 = make_throws(n_replications=200, n_flips=1000)"
   ]
  },
  {
   "cell_type": "code",
   "execution_count": 40,
   "metadata": {
    "button": false,
    "new_sheet": false,
    "run_control": {
     "read_only": false
    }
   },
   "outputs": [
    {
     "data": {
      "image/png": "[encoded data removed]",
      "text/plain": [
       "<Figure size 800x800 with 1 Axes>"
      ]
     },
     "metadata": {},
     "output_type": "display_data"
    }
   ],
   "source": [
    "def plot_sample_mean_distributions(ax, mean_samples, labels):\n",
    "    [ax.hist(sample, alpha=0.3, label=labels[i], bins=12) for i, sample in enumerate(mean_samples)]\n",
    "    ax.set_xlabel(\"mean proportion of heads\")\n",
    "    ax.set_title(\"Histogram of Samples at Different Numbers of Flips\");\n",
    "    ax.legend();\n",
    "    return ax\n",
    "# !!!!!!!!!!!!!!!\n",
    "\n",
    "mean_samples = [proportions_at_n_flips_100, proportions_at_n_flips_1000]\n",
    "labels = [\"100 flips\", \"1000 flips\"]\n",
    "fig, ax = plt.subplots(figsize=(8,8))\n",
    "plot_sample_mean_distributions(ax, mean_samples, labels);\n"
   ]
  },
  {
   "cell_type": "markdown",
   "metadata": {
    "button": false,
    "new_sheet": false,
    "run_control": {
     "read_only": false
    }
   },
   "source": [
    "**3.3**"
   ]
  },
  {
   "cell_type": "code",
   "execution_count": 41,
   "metadata": {
    "button": false,
    "new_sheet": false,
    "run_control": {
     "read_only": false
    }
   },
   "outputs": [
    {
     "name": "stdout",
     "output_type": "stream",
     "text": [
      "Mean of 200 trials of 100 flips each: 0.5012 \n",
      "Mean of 200 trials of 1000 flips each: 0.5022 \n",
      "Variance of 200 trials of 100 flips each: 0.0022349 \n",
      "Variance of 200 trials of 1000 flips each: 0.00022344 \n"
     ]
    }
   ],
   "source": [
    "print(\"Mean of 200 trials of 100 flips each: {:.4} \".format(np.mean(proportions_at_n_flips_100)))\n",
    "print(\"Mean of 200 trials of 1000 flips each: {:.4} \".format(np.mean(proportions_at_n_flips_1000)))\n",
    "print(\"Variance of 200 trials of 100 flips each: {:.5} \".format(np.var(proportions_at_n_flips_100)))\n",
    "print(\"Variance of 200 trials of 1000 flips each: {:.5} \".format(np.var(proportions_at_n_flips_1000)))"
   ]
  },
  {
   "cell_type": "markdown",
   "metadata": {
    "button": false,
    "new_sheet": false,
    "run_control": {
     "read_only": false
    }
   },
   "source": [
    "**3.4**"
   ]
  },
  {
   "cell_type": "markdown",
   "metadata": {
    "button": false,
    "new_sheet": false,
    "run_control": {
     "read_only": false
    }
   },
   "source": [
    "C -- The distributions are roughly symmetric and unimodal and each is comprised of a sum of iid distributions (i.e. the bernoullis representing the coin flips), so we feel that the gaussian would be a good guess as the underlying distribution.\n",
    "\n"
   ]
  },
  {
   "cell_type": "markdown",
   "metadata": {
    "button": false,
    "new_sheet": false,
    "run_control": {
     "read_only": false
    }
   },
   "source": [
    "**3.5**"
   ]
  },
  {
   "cell_type": "code",
   "execution_count": 42,
   "metadata": {
    "button": false,
    "new_sheet": false,
    "run_control": {
     "read_only": false
    }
   },
   "outputs": [
    {
     "data": {
      "image/png": "[encoded data removed]",
      "text/plain": [
       "<Figure size 800x800 with 1 Axes>"
      ]
     },
     "metadata": {},
     "output_type": "display_data"
    }
   ],
   "source": [
    "fig, ax = plt.subplots(figsize=(8,8))\n",
    "x = np.linspace(0.44,0.56, num=500)\n",
    "\n",
    "ax.hist(np.array(proportions_at_n_flips_1000), alpha=0.3, label=\"1000 flips\")\n",
    "ax.plot(x, scipy.stats.norm.pdf(x, loc=np.mean(proportions_at_n_flips_1000), \n",
    "                                scale = np.sqrt(np.var(proportions_at_n_flips_1000))), label=\"Gaussian PDF\" )\n",
    "ax.set_xlabel(\"proportion of heads\")\n",
    "ax.set_title(\"Histogram of Samples at Different Numbers of Flips\");\n",
    "ax.legend();\n"
   ]
  },
  {
   "cell_type": "markdown",
   "metadata": {
    "button": false,
    "new_sheet": false,
    "run_control": {
     "read_only": false
    }
   },
   "source": [
    "## Working With Distributions in Numpy/Scipy\n",
    "\n",
    "Earlier in this problem set we've been introduced to the Bernoulli \"aka coin-flip\" distribution and worked with it indirectly by using np.random.choice to make a random selection between two elements 'H' and 'T'.  Let's see if we can create comparable results by taking advantage of the machinery for working with other probability distributions in python using numpy and scipy."
   ]
  },
  {
   "cell_type": "markdown",
   "metadata": {
    "button": false,
    "new_sheet": false,
    "run_control": {
     "read_only": false
    }
   },
   "source": [
    "### Question 4: My Normal Binomial\n",
    "\n",
    "Let's use our coin-flipping machinery to do some experimentation with the binomial distribution.  The binomial distribution, often represented by  $k \\sim Binomial(n, p)$ is often described the number of successes in `n` Bernoulli trials with each trial having a probability of success `p`.  In other words,  if you flip a coin `n` times, and each coin-flip has a probability `p` of landing heads, then the number of heads you observe is a sample from a bernoulli distribution.\n",
    "\n",
    "**4.1**. Sample the binomial distribution using coin flips by writing a function `sample_binomial1` which takes in integer parameters `n` and `size`.  The output of `sample_binomial1` should be a list of length `size` observations with each observation being the outcome of flipping a coin `n` times and counting the number of heads.  By default `size` should be 1.  Your code should take advantage of the `throw_a_coin` function we defined above. \n",
    "\n",
    "**4.2**. Sample the binomial distribution directly using scipy.stats.binom.rvs by writing another function `sample_binomial2` that takes in integer parameters `n` and `size` as well as a float `p` parameter `p` where $p \\in [0 \\ldots 1]$.  The output of `sample_binomial2` should be a list of length `size` observations with each observation a sample of $Binomial(n, p)$ (taking advantage of scipy.stats.binom).  By default `size` should be 1 and `p` should be 0.5.\n",
    "\n",
    "**4.3**. Run sample_binomial1 with 25 and 200 as values of the `n` and `size` parameters respectively and store the result in `binomial_trials1`. Run sample_binomial2 with 25, 200 and 0.5 as values of the `n`, `size` and `p` parameters respectively and store the results in `binomial_trials2`.  Plot normed histograms of `binomial_trials1` and `binomial_trials2`.  On both histograms, overlay a plot of the pdf of $Binomial(n=25, p=0.5)$\n",
    "\n",
    "**4.4**. How do the plots in 4.3 compare?\n",
    "\n",
    "**4.5**. Find the mean and variance of `binomial_trials1`.  How do they compare to the mean and variance of $Binomial(n=25, p=0.5)$"
   ]
  },
  {
   "cell_type": "markdown",
   "metadata": {
    "button": false,
    "new_sheet": false,
    "run_control": {
     "read_only": false
    }
   },
   "source": [
    "#### Answers"
   ]
  },
  {
   "cell_type": "code",
   "execution_count": 19,
   "metadata": {},
   "outputs": [
    {
     "name": "stdout",
     "output_type": "stream",
     "text": [
      "the mean of binomial_trials1 is 12.51 and the variance is 6.12\n",
      "the mean of binomial_trials2 is 12.5 and the variance is 6.29\n"
     ]
    },
    {
     "data": {
      "image/png": "[encoded data removed]",
      "text/plain": [
       "<Figure size 1200x900 with 1 Axes>"
      ]
     },
     "metadata": {},
     "output_type": "display_data"
    }
   ],
   "source": [
    "def sample_binomial1(n, size = 1):\n",
    "    counts = []\n",
    "    for i in range(size):\n",
    "        throw = throw_a_coin(n)\n",
    "        count = np.unique(throw, return_counts = True)[1][0]\n",
    "        counts.append(count)\n",
    "    return counts\n",
    "\n",
    "def sample_binomial2(n, size =1, p =0.5):\n",
    "    counts = []\n",
    "    for i in range(size):\n",
    "        count = scipy.stats.binom.rvs(n, p)\n",
    "        # produce random values that represent the number of successes in n trials\n",
    "        counts.append(count)\n",
    "    return counts\n",
    "\n",
    "\n",
    "binomial_trials1 = sample_binomial1(25,200)\n",
    "binomial_trials2 = sample_binomial2(25,200,0.5)\n",
    "\n",
    "fig,ax = plt.subplots(1,1, figsize = (12,9))\n",
    "ax.hist(binomial_trials1, label = \"sample_binomial1\", alpha = 0.3)\n",
    "ax.hist(binomial_trials2, label = \"sample_binomial2\", alpha = 0.3)\n",
    "ax.legend()\n",
    "\n",
    "mean1 =np.mean(binomial_trials1)\n",
    "var1 = np.var(binomial_trials1)\n",
    "mean2 = np.mean(binomial_trials2)\n",
    "var2 = np.var(binomial_trials2)\n",
    "\n",
    "print(\"the mean of binomial_trials1 is {0:.4} and the variance is {1:.4}\".format(mean1, var1))\n",
    "print(\"the mean of binomial_trials2 is {0:.4} and the variance is {1:.4}\".format(mean2, var2))"
   ]
  },
  {
   "cell_type": "markdown",
   "metadata": {
    "button": false,
    "new_sheet": false,
    "run_control": {
     "read_only": false
    }
   },
   "source": [
    "**4.1**"
   ]
  },
  {
   "cell_type": "code",
   "execution_count": 25,
   "metadata": {
    "button": false,
    "new_sheet": false,
    "run_control": {
     "read_only": false
    }
   },
   "outputs": [],
   "source": [
    "def sample_binomial1(n : int, size : int = 1) -> list:\n",
    "    # -> list specifies the return type of the function, which is a list.\n",
    "    \"\"\"\n",
    "    Generate a list of observations with each observation being the outcome of flipping a coin `n` times and counting \n",
    "    the number of heads\n",
    "    Args:\n",
    "        n: number of coins flipped\n",
    "        size:  The number of observations\n",
    "\n",
    "    Returns:\n",
    "        A list of observations each one being the total number of heads out of  n total coins flipped\n",
    "    \"\"\"\n",
    "    observations = []\n",
    "    for i in range(size):\n",
    "        throws = throw_a_coin(n)\n",
    "        observations.append(np.sum(throws == 'H'))\n",
    "\n",
    "    return observations"
   ]
  },
  {
   "cell_type": "markdown",
   "metadata": {
    "button": false,
    "new_sheet": false,
    "run_control": {
     "read_only": false
    }
   },
   "source": [
    "**4.2**"
   ]
  },
  {
   "cell_type": "code",
   "execution_count": 26,
   "metadata": {
    "button": false,
    "new_sheet": false,
    "run_control": {
     "read_only": false
    }
   },
   "outputs": [],
   "source": [
    "def sample_binomial2(n : int, size : int = 1, p : float = 0.5) -> list:\n",
    "    \"\"\"\n",
    "    Generate a list of observations with each observation being the number of successes out of n trials with success \n",
    "    probability p\n",
    "    Args:\n",
    "        n: number of trials\n",
    "        size:  The number of observations\n",
    "        p: Probability of success in each trial\n",
    "\n",
    "    Returns:\n",
    "        A list of observations each one being the total number successes out of n trials\n",
    "    \"\"\"\n",
    "    return scipy.stats.binom.rvs(n, p, size=size)"
   ]
  },
  {
   "cell_type": "markdown",
   "metadata": {
    "button": false,
    "new_sheet": false,
    "run_control": {
     "read_only": false
    }
   },
   "source": [
    "**4.3**"
   ]
  },
  {
   "cell_type": "code",
   "execution_count": 27,
   "metadata": {
    "button": false,
    "new_sheet": false,
    "run_control": {
     "read_only": false
    }
   },
   "outputs": [
    {
     "data": {
      "image/png": "[encoded data removed]",
      "text/plain": [
       "<Figure size 576x576 with 1 Axes>"
      ]
     },
     "metadata": {
      "needs_background": "light"
     },
     "output_type": "display_data"
    }
   ],
   "source": [
    "binomial_trials1 = sample_binomial1(n=25, size=200)\n",
    "binomial_trials2 = sample_binomial2(n=25, size=200, p = 0.5)\n",
    "\n",
    "def plot_binomial_trials(ax, mean_samples, labels):\n",
    "    [ax.hist(sample,alpha=0.3, label=labels[i], bins=12) for i, sample in enumerate(mean_samples)]\n",
    "    \n",
    "    binomial = scipy.stats.binom.pmf(range(26),25, 0.5)\n",
    "    # The PMF gives the probability of obtaining a specific number of successes in a fixed number of independent Bernoulli trials.\n",
    "    ax.plot(binomial, label=\"Binomial PMF\")\n",
    "    ax.set_xlabel(\"number of successes/heads\")\n",
    "    ax.set_title(\"Normed Binomial Histograms from Flipping Coins and Directly from Scipy\");\n",
    "    ax.legend();\n",
    "    return ax\n",
    "\n",
    "binomial_trials = [binomial_trials1, binomial_trials2]\n",
    "labels = [\"Flipping Coins\", \"Scipy\"]\n",
    "fig, ax = plt.subplots(figsize=(8,8))\n",
    "plot_binomial_trials(ax, binomial_trials, labels);\n"
   ]
  },
  {
   "cell_type": "markdown",
   "metadata": {
    "button": false,
    "new_sheet": false,
    "run_control": {
     "read_only": false
    }
   },
   "source": [
    "**4.4**"
   ]
  },
  {
   "attachments": {},
   "cell_type": "markdown",
   "metadata": {
    "button": false,
    "new_sheet": false,
    "run_control": {
     "read_only": false
    }
   },
   "source": [
    "They are similar enough for any differences to be the result of random chance.  Since the underlying distributions being plotted are the result of the sum of iid distributions (Bernoullis), the CLT holds and the resulting distributions although Binomial should be also be approximately Gaussian.\n",
    "\n",
    "iid\" stands for \"independent and identically distributed.\" \n",
    "\n",
    "\"CLT\" stands for the Central Limit Theorem. The Central Limit Theorem describes the behavior of the sum (or average) of a large number of independent and identically distributed random variables."
   ]
  },
  {
   "cell_type": "code",
   "execution_count": 28,
   "metadata": {
    "button": false,
    "new_sheet": false,
    "run_control": {
     "read_only": false
    }
   },
   "outputs": [
    {
     "name": "stdout",
     "output_type": "stream",
     "text": [
      "Mean of Binomial Trials From Coin Flips: 12.91\n",
      "Variance of Binomial Trials From Coin Flips: 6.211899999999999\n",
      "Mean of Binomial(n=25, p=0.5): 12.5\n",
      "Variance of Binomial(n=25, p=0.5): 6.25\n"
     ]
    }
   ],
   "source": [
    "# your code here \n",
    "print(\"Mean of Binomial Trials From Coin Flips: {}\".format(np.mean(binomial_trials1)))\n",
    "print(\"Variance of Binomial Trials From Coin Flips: {}\".format(np.var(binomial_trials1)))\n",
    "print(\"Mean of Binomial(n=25, p=0.5): {}\".format(scipy.stats.binom.mean(25, 0.5)))\n",
    "print(\"Variance of Binomial(n=25, p=0.5): {}\".format(scipy.stats.binom.var(25, 0.5)))"
   ]
  },
  {
   "cell_type": "markdown",
   "metadata": {
    "button": false,
    "new_sheet": false,
    "run_control": {
     "read_only": false
    }
   },
   "source": [
    "** Your explanation here **\n",
    "\n",
    "The means are very similar.  The variance of the sample differs somewhat from the true variance, but that difference can be explained by random chance."
   ]
  },
  {
   "cell_type": "markdown",
   "metadata": {
    "button": false,
    "new_sheet": false,
    "run_control": {
     "read_only": false
    }
   },
   "source": [
    "## Testing Your Python Code"
   ]
  },
  {
   "cell_type": "markdown",
   "metadata": {
    "button": false,
    "new_sheet": false,
    "run_control": {
     "read_only": false
    }
   },
   "source": [
    "In the following section we're going to do a brief introduction to unit testing.  We do so not only because unit testing has become an increasingly important part of of the methodology of good software practices, but also because we plan on using unit tests as part of our own CS109 grading practices as a way of increasing rigor and repeatability decreasing complexity and manual workload in our evaluations of your code.  We'll provide an example unit test at the end of this section.\n",
    "\n",
    "### Introduction to unit testing "
   ]
  },
  {
   "cell_type": "code",
   "execution_count": 23,
   "metadata": {
    "button": false,
    "new_sheet": false,
    "run_control": {
     "read_only": false
    }
   },
   "outputs": [],
   "source": [
    "import ipytest"
   ]
  },
  {
   "cell_type": "markdown",
   "metadata": {
    "button": false,
    "new_sheet": false,
    "run_control": {
     "read_only": false
    }
   },
   "source": [
    "***Unit testing*** is one of the most important software testing methodologies.  Wikipedia describes unit testing as \"a software testing method by which individual units of source code, sets of one or more computer program modules together with associated control data, usage procedures, and operating procedures, are tested to determine whether they are fit for use.\"\n",
    "\n",
    "There are many different python libraries that support software testing in general and unit testing in particular.  PyTest is one of the most widely used and well-liked libraries for this purpose.  We've chosen to adopt PyTest (and ipytest which allows pytest to be used in ipython notebooks) for our testing needs and we'll do a very brief introduction to Pytest here so that you can become familiar with it too. \n",
    "\n",
    "If you recall the function that we provided you above `throw_a_coin`, which we'll reproduce here for convenience, it took a number and returned that many \"coin tosses\".  We'll start by seeing what happens when we give it different sizes of $N$.  If we give $N=0$, we should get an empty array of \"experiments\"."
   ]
  },
  {
   "cell_type": "code",
   "execution_count": 24,
   "metadata": {
    "button": false,
    "new_sheet": false,
    "run_control": {
     "read_only": false
    }
   },
   "outputs": [],
   "source": [
    "def throw_a_coin(N):\n",
    "    return np.random.choice(['H','T'], size=N)"
   ]
  },
  {
   "cell_type": "code",
   "execution_count": 25,
   "metadata": {
    "button": false,
    "new_sheet": false,
    "run_control": {
     "read_only": false
    }
   },
   "outputs": [
    {
     "data": {
      "text/plain": [
       "array([], dtype='<U1')"
      ]
     },
     "execution_count": 25,
     "metadata": {},
     "output_type": "execute_result"
    }
   ],
   "source": [
    "throw_a_coin(0)"
   ]
  },
  {
   "cell_type": "markdown",
   "metadata": {
    "button": false,
    "new_sheet": false,
    "run_control": {
     "read_only": false
    }
   },
   "source": [
    "Great!  If we give it positive values of $N$ we should get that number of 'H's and 'T's."
   ]
  },
  {
   "cell_type": "code",
   "execution_count": 26,
   "metadata": {
    "button": false,
    "new_sheet": false,
    "run_control": {
     "read_only": false
    }
   },
   "outputs": [
    {
     "data": {
      "text/plain": [
       "array(['H', 'H', 'T', 'T', 'T'], dtype='<U1')"
      ]
     },
     "execution_count": 26,
     "metadata": {},
     "output_type": "execute_result"
    }
   ],
   "source": [
    "throw_a_coin(5)"
   ]
  },
  {
   "cell_type": "code",
   "execution_count": 27,
   "metadata": {
    "button": false,
    "new_sheet": false,
    "run_control": {
     "read_only": false
    }
   },
   "outputs": [
    {
     "data": {
      "text/plain": [
       "array(['H', 'H', 'H', 'T', 'H', 'T', 'T', 'T'], dtype='<U1')"
      ]
     },
     "execution_count": 27,
     "metadata": {},
     "output_type": "execute_result"
    }
   ],
   "source": [
    "throw_a_coin(8)"
   ]
  },
  {
   "cell_type": "markdown",
   "metadata": {
    "button": false,
    "new_sheet": false,
    "run_control": {
     "read_only": false
    }
   },
   "source": [
    "Exactly what we expected!  \n",
    "\n",
    "What happens if the input isn't a positive integer though?"
   ]
  },
  {
   "cell_type": "code",
   "execution_count": 28,
   "metadata": {
    "button": false,
    "new_sheet": false,
    "run_control": {
     "read_only": false
    }
   },
   "outputs": [
    {
     "ename": "TypeError",
     "evalue": "expected a sequence of integers or a single integer, got '4.5'",
     "output_type": "error",
     "traceback": [
      "\u001b[0;31m---------------------------------------------------------------------------\u001b[0m",
      "\u001b[0;31mTypeError\u001b[0m                                 Traceback (most recent call last)",
      "Cell \u001b[0;32mIn[28], line 1\u001b[0m\n\u001b[0;32m----> 1\u001b[0m throw_a_coin(\u001b[39m4.5\u001b[39m)\n",
      "Cell \u001b[0;32mIn[24], line 2\u001b[0m, in \u001b[0;36mthrow_a_coin\u001b[0;34m(N)\u001b[0m\n\u001b[1;32m      1\u001b[0m \u001b[39mdef\u001b[39;00m \u001b[39mthrow_a_coin\u001b[39m(N):\n\u001b[0;32m----> 2\u001b[0m     \u001b[39mreturn\u001b[39;00m np\u001b[39m.\u001b[39mrandom\u001b[39m.\u001b[39mchoice([\u001b[39m'\u001b[39m\u001b[39mH\u001b[39m\u001b[39m'\u001b[39m,\u001b[39m'\u001b[39m\u001b[39mT\u001b[39m\u001b[39m'\u001b[39m], size\u001b[39m=\u001b[39mN)\n",
      "File \u001b[0;32mmtrand.pyx:981\u001b[0m, in \u001b[0;36mnumpy.random.mtrand.RandomState.choice\u001b[0;34m()\u001b[0m\n",
      "File \u001b[0;32mmtrand.pyx:765\u001b[0m, in \u001b[0;36mnumpy.random.mtrand.RandomState.randint\u001b[0;34m()\u001b[0m\n",
      "File \u001b[0;32m_bounded_integers.pyx:1256\u001b[0m, in \u001b[0;36mnumpy.random._bounded_integers._rand_int64\u001b[0;34m()\u001b[0m\n",
      "\u001b[0;31mTypeError\u001b[0m: expected a sequence of integers or a single integer, got '4.5'"
     ]
    }
   ],
   "source": [
    "throw_a_coin(4.5)"
   ]
  },
  {
   "cell_type": "markdown",
   "metadata": {
    "run_control": {}
   },
   "source": [
    "or "
   ]
  },
  {
   "cell_type": "code",
   "execution_count": 29,
   "metadata": {
    "button": false,
    "new_sheet": false,
    "run_control": {
     "read_only": false
    }
   },
   "outputs": [
    {
     "ename": "ValueError",
     "evalue": "negative dimensions are not allowed",
     "output_type": "error",
     "traceback": [
      "\u001b[0;31m---------------------------------------------------------------------------\u001b[0m",
      "\u001b[0;31mValueError\u001b[0m                                Traceback (most recent call last)",
      "Cell \u001b[0;32mIn[29], line 1\u001b[0m\n\u001b[0;32m----> 1\u001b[0m throw_a_coin(\u001b[39m-\u001b[39m\u001b[39m4\u001b[39m)\n",
      "Cell \u001b[0;32mIn[24], line 2\u001b[0m, in \u001b[0;36mthrow_a_coin\u001b[0;34m(N)\u001b[0m\n\u001b[1;32m      1\u001b[0m \u001b[39mdef\u001b[39;00m \u001b[39mthrow_a_coin\u001b[39m(N):\n\u001b[0;32m----> 2\u001b[0m     \u001b[39mreturn\u001b[39;00m np\u001b[39m.\u001b[39mrandom\u001b[39m.\u001b[39mchoice([\u001b[39m'\u001b[39m\u001b[39mH\u001b[39m\u001b[39m'\u001b[39m,\u001b[39m'\u001b[39m\u001b[39mT\u001b[39m\u001b[39m'\u001b[39m], size\u001b[39m=\u001b[39mN)\n",
      "File \u001b[0;32mmtrand.pyx:981\u001b[0m, in \u001b[0;36mnumpy.random.mtrand.RandomState.choice\u001b[0;34m()\u001b[0m\n",
      "File \u001b[0;32mmtrand.pyx:765\u001b[0m, in \u001b[0;36mnumpy.random.mtrand.RandomState.randint\u001b[0;34m()\u001b[0m\n",
      "File \u001b[0;32m_bounded_integers.pyx:1256\u001b[0m, in \u001b[0;36mnumpy.random._bounded_integers._rand_int64\u001b[0;34m()\u001b[0m\n",
      "\u001b[0;31mValueError\u001b[0m: negative dimensions are not allowed"
     ]
    }
   ],
   "source": [
    "throw_a_coin(-4)"
   ]
  },
  {
   "cell_type": "markdown",
   "metadata": {
    "button": false,
    "new_sheet": false,
    "run_control": {
     "read_only": false
    }
   },
   "source": [
    "It looks like for both real numbers and negative numbers, we get two kinds of errors a `TypeError` and a `ValueError`.  We just engaged in one of the most rudimentary forms of testing, trial and error.  We can use pytest to automate this process by writing some functions that will automatically (and potentially repeatedly) test individual units of our code methodology.  These are called ***unit tests***.\n",
    "\n",
    "Before we write our tests, let's consider what we would think of as the appropriate behavior for `throw_a_coin` under the conditions we considered above.  If `throw_a_coin` receives positive integer input, we want it to behave exactly as it currently does -- returning an output consisting of a list of characters 'H' or 'T' with the length of the list equal to the positive integer input. For a positive floating point input, we want `throw_a_coin_properly` to treat the input as if it were rounded down to the nearest integer (thus returning a list of 'H' or 'T' integers whose length is the same as the input rounded down to the next highest integer.  For a any negative number input or an input of 0, we want `throw_a_coin_properly` to return an empty list."
   ]
  },
  {
   "cell_type": "markdown",
   "metadata": {
    "button": false,
    "new_sheet": false,
    "run_control": {
     "read_only": false
    }
   },
   "source": [
    "We create pytest tests by writing functions that start or end with \"test\".  We'll use the **convention** that our tests will start with \"test\".  \n",
    "\n",
    "We begin the code cell with ipytest's clean_tests function as a way to clear out the results of previous tests starting with \"test_throw_a_coin\" (the * is the standard wild card character here).\n",
    "\n"
   ]
  },
  {
   "cell_type": "code",
   "execution_count": 33,
   "metadata": {
    "button": false,
    "new_sheet": false,
    "run_control": {
     "read_only": false
    }
   },
   "outputs": [
    {
     "name": "stdout",
     "output_type": "stream",
     "text": [
      "\u001b[1m======================================= test session starts ========================================\u001b[0m\n",
      "platform linux -- Python 3.11.3, pytest-7.3.1, pluggy-1.0.0\n",
      "rootdir: /home/ting/Harvard_CS109/homeworks/hw0\n",
      "plugins: anyio-3.5.0\n",
      "collected 4 items\n",
      "\n",
      "t_1735af8c620a40ab9e61889376a9c7a3.py \u001b[32m.\u001b[0m\u001b[32m.\u001b[0m\u001b[31mF\u001b[0m\u001b[31mF\u001b[0m\u001b[31m                                                   [100%]\u001b[0m\n",
      "\n",
      "============================================= FAILURES =============================================\n",
      "\u001b[31m\u001b[1m_____________________________________ test_throw_a_coin_float ______________________________________\u001b[0m\n",
      "\n",
      "    \u001b[94mdef\u001b[39;49;00m \u001b[92mtest_throw_a_coin_float\u001b[39;49;00m():\n",
      "        \u001b[94mfor\u001b[39;49;00m n \u001b[95min\u001b[39;49;00m np.random.exponential(\u001b[94m7\u001b[39;49;00m, size=\u001b[94m5\u001b[39;49;00m):\n",
      "            \u001b[90m# Draw samples from an exponential distribution. 7 is The scale parameter\u001b[39;49;00m\n",
      ">           \u001b[94massert\u001b[39;49;00m \u001b[96mlen\u001b[39;49;00m(throw_a_coin(n)) == np.floor(n)\n",
      "\n",
      "\u001b[1m\u001b[31m/tmp/ipykernel_4889/3804140819.py\u001b[0m:23: \n",
      "_ _ _ _ _ _ _ _ _ _ _ _ _ _ _ _ _ _ _ _ _ _ _ _ _ _ _ _ _ _ _ _ _ _ _ _ _ _ _ _ _ _ _ _ _ _ _ _ _ _ \n",
      "\u001b[1m\u001b[31m/tmp/ipykernel_4889/939549906.py\u001b[0m:2: in throw_a_coin\n",
      "    \u001b[94mreturn\u001b[39;49;00m np.random.choice([\u001b[33m'\u001b[39;49;00m\u001b[33mH\u001b[39;49;00m\u001b[33m'\u001b[39;49;00m,\u001b[33m'\u001b[39;49;00m\u001b[33mT\u001b[39;49;00m\u001b[33m'\u001b[39;49;00m], size=N)\n",
      "\u001b[1m\u001b[31mmtrand.pyx\u001b[0m:981: in numpy.random.mtrand.RandomState.choice\n",
      "    \u001b[04m\u001b[91m?\u001b[39;49;00m\u001b[04m\u001b[91m?\u001b[39;49;00m\u001b[04m\u001b[91m?\u001b[39;49;00m\n",
      "\u001b[1m\u001b[31mmtrand.pyx\u001b[0m:765: in numpy.random.mtrand.RandomState.randint\n",
      "    \u001b[04m\u001b[91m?\u001b[39;49;00m\u001b[04m\u001b[91m?\u001b[39;49;00m\u001b[04m\u001b[91m?\u001b[39;49;00m\n",
      "_ _ _ _ _ _ _ _ _ _ _ _ _ _ _ _ _ _ _ _ _ _ _ _ _ _ _ _ _ _ _ _ _ _ _ _ _ _ _ _ _ _ _ _ _ _ _ _ _ _ \n",
      "\n",
      ">   \u001b[04m\u001b[91m?\u001b[39;49;00m\u001b[04m\u001b[91m?\u001b[39;49;00m\u001b[04m\u001b[91m?\u001b[39;49;00m\n",
      "\u001b[1m\u001b[31mE   TypeError: expected a sequence of integers or a single integer, got '12.427315083164856'\u001b[0m\n",
      "\n",
      "\u001b[1m\u001b[31m_bounded_integers.pyx\u001b[0m:1256: TypeError\n",
      "\u001b[31m\u001b[1m____________________________________ test_throw_a_coin_negative ____________________________________\u001b[0m\n",
      "\n",
      "    \u001b[94mdef\u001b[39;49;00m \u001b[92mtest_throw_a_coin_negative\u001b[39;49;00m():\n",
      "        \u001b[94mfor\u001b[39;49;00m n \u001b[95min\u001b[39;49;00m \u001b[96mrange\u001b[39;49;00m(-\u001b[94m7\u001b[39;49;00m, \u001b[94m0\u001b[39;49;00m):\n",
      ">           \u001b[94massert\u001b[39;49;00m \u001b[96mlen\u001b[39;49;00m(throw_a_coin(n)) == \u001b[94m0\u001b[39;49;00m\n",
      "\n",
      "\u001b[1m\u001b[31m/tmp/ipykernel_4889/3804140819.py\u001b[0m:29: \n",
      "_ _ _ _ _ _ _ _ _ _ _ _ _ _ _ _ _ _ _ _ _ _ _ _ _ _ _ _ _ _ _ _ _ _ _ _ _ _ _ _ _ _ _ _ _ _ _ _ _ _ \n",
      "\u001b[1m\u001b[31m/tmp/ipykernel_4889/939549906.py\u001b[0m:2: in throw_a_coin\n",
      "    \u001b[94mreturn\u001b[39;49;00m np.random.choice([\u001b[33m'\u001b[39;49;00m\u001b[33mH\u001b[39;49;00m\u001b[33m'\u001b[39;49;00m,\u001b[33m'\u001b[39;49;00m\u001b[33mT\u001b[39;49;00m\u001b[33m'\u001b[39;49;00m], size=N)\n",
      "\u001b[1m\u001b[31mmtrand.pyx\u001b[0m:981: in numpy.random.mtrand.RandomState.choice\n",
      "    \u001b[04m\u001b[91m?\u001b[39;49;00m\u001b[04m\u001b[91m?\u001b[39;49;00m\u001b[04m\u001b[91m?\u001b[39;49;00m\n",
      "\u001b[1m\u001b[31mmtrand.pyx\u001b[0m:765: in numpy.random.mtrand.RandomState.randint\n",
      "    \u001b[04m\u001b[91m?\u001b[39;49;00m\u001b[04m\u001b[91m?\u001b[39;49;00m\u001b[04m\u001b[91m?\u001b[39;49;00m\n",
      "_ _ _ _ _ _ _ _ _ _ _ _ _ _ _ _ _ _ _ _ _ _ _ _ _ _ _ _ _ _ _ _ _ _ _ _ _ _ _ _ _ _ _ _ _ _ _ _ _ _ \n",
      "\n",
      ">   \u001b[04m\u001b[91m?\u001b[39;49;00m\u001b[04m\u001b[91m?\u001b[39;49;00m\u001b[04m\u001b[91m?\u001b[39;49;00m\n",
      "\u001b[1m\u001b[31mE   ValueError: negative dimensions are not allowed\u001b[0m\n",
      "\n",
      "\u001b[1m\u001b[31m_bounded_integers.pyx\u001b[0m:1256: ValueError\n",
      "\u001b[36m\u001b[1m===================================== short test summary info ======================================\u001b[0m\n",
      "\u001b[31mFAILED\u001b[0m t_1735af8c620a40ab9e61889376a9c7a3.py::\u001b[1mtest_throw_a_coin_float\u001b[0m - TypeError: expected a sequence of integers or a single integer, got '12.427315083164856'\n",
      "\u001b[31mFAILED\u001b[0m t_1735af8c620a40ab9e61889376a9c7a3.py::\u001b[1mtest_throw_a_coin_negative\u001b[0m - ValueError: negative dimensions are not allowed\n",
      "\u001b[31m=================================== \u001b[31m\u001b[1m2 failed\u001b[0m, \u001b[32m2 passed\u001b[0m\u001b[31m in 0.06s\u001b[0m\u001b[31m ====================================\u001b[0m\n"
     ]
    },
    {
     "name": "stderr",
     "output_type": "stream",
     "text": [
      "ipytest.clean_tests is deprecated in favor of ipytest.clean\n"
     ]
    },
    {
     "data": {
      "text/plain": [
       "<ExitCode.TESTS_FAILED: 1>"
      ]
     },
     "execution_count": 33,
     "metadata": {},
     "output_type": "execute_result"
    }
   ],
   "source": [
    "## the * after test_throw_a_coin tells this code cell to clean out the results\n",
    "## of all tests starting with test_throw_a_coin\n",
    "ipytest.clean_tests(\"test_throw_a_coin*\")\n",
    "\n",
    "## run throw_a_coin with a variety of positive integer inputs (all numbers between 1 and 20) and\n",
    "## verify that the length of the output list (e.g ['H', 'H', 'T', 'H', 'T']) matches the input integer\n",
    "def test_throw_a_coin_length_positive():\n",
    "    for n in range(1,20):\n",
    "        assert len(throw_a_coin(n)) == n\n",
    "\n",
    "## verify that throw_a_coin produces an empty list (i.e. a list of length 0) if provide with an input\n",
    "## of 0\n",
    "def test_throw_a_coin_length_zero():\n",
    "    ## should be the empty array\n",
    "    assert len(throw_a_coin(0)) == 0\n",
    "    \n",
    "\n",
    "## verify that given a positive floating point input (i.e. 4.34344298547201), throw_a_coin produces a list of\n",
    "## coin flips of length equal to highest integer less than the input\n",
    "def test_throw_a_coin_float():\n",
    "    for n in np.random.exponential(7, size=5):\n",
    "        # Draw samples from an exponential distribution. 7 is The scale parameter\n",
    "        assert len(throw_a_coin(n)) == np.floor(n)\n",
    "        # The floor of the scalar x is the largest integer i, such that i <= x. \n",
    "\n",
    "## verify that given any negative input (e.g. -323.4), throw_a_coin produces an empty\n",
    "def test_throw_a_coin_negative():\n",
    "    for n in range(-7, 0):\n",
    "        assert len(throw_a_coin(n)) == 0\n",
    "\n",
    "        \n",
    "ipytest.run()"
   ]
  },
  {
   "cell_type": "markdown",
   "metadata": {
    "button": false,
    "new_sheet": false,
    "run_control": {
     "read_only": false
    }
   },
   "source": [
    "As you see, we were able to use pytest (and ipytest which allows us to run pytest tests in our ipython notebooks) to automate the tests that we constructed manually before and get the same errors and successes.  Now time to fix our code and write our own test!"
   ]
  },
  {
   "cell_type": "markdown",
   "metadata": {
    "button": false,
    "new_sheet": false,
    "run_control": {
     "read_only": false
    }
   },
   "source": [
    "### Question 5: You Better Test Yourself before You Wreck Yourself!\n",
    "\n",
    "Now it's time to fix `throw_a_coin` so that it passes the tests we've written above as well as add our own test to the mix!\n",
    "\n",
    "**5.1**. Write a new function called `throw_a_coin_properly` that will pass the tests that we saw above.  For your convenience we'll provide a new jupyter notebook cell with the tests rewritten for the new function.  All the tests should pass.  For a positive floating point input, we want `throw_a_coin_properly` to treat the input as if it were rounded down to the nearest integer.  For a any negative number input, we want `throw_a_coin_properly` to treat the input as if it were 0.\n",
    "\n",
    "**5.2**. Write a new test for `throw_a_coin_properly` that verifies that all the elements of the resultant arrays are 'H' or 'T'."
   ]
  },
  {
   "cell_type": "markdown",
   "metadata": {
    "button": false,
    "new_sheet": false,
    "run_control": {
     "read_only": false
    }
   },
   "source": [
    "#### Answers"
   ]
  },
  {
   "cell_type": "markdown",
   "metadata": {
    "button": false,
    "new_sheet": false,
    "run_control": {
     "read_only": false
    }
   },
   "source": [
    "**5.1**"
   ]
  },
  {
   "cell_type": "code",
   "execution_count": 55,
   "metadata": {},
   "outputs": [],
   "source": [
    "def throw_a_coin_properly(n):\n",
    "    if type(n) == int and n>=0:\n",
    "        throw = np.random.choice([\"H\", \"T\"], size = n)\n",
    "    elif type(n) == np.float64 and n>=0:\n",
    "        throw = np.random.choice([\"H\", \"T\"], size = int(np.floor(n)))\n",
    "        # no need to use np.floor\n",
    "    elif n <0:\n",
    "        throw = []\n",
    "    return throw"
   ]
  },
  {
   "cell_type": "code",
   "execution_count": 58,
   "metadata": {},
   "outputs": [
    {
     "name": "stdout",
     "output_type": "stream",
     "text": [
      "1\n"
     ]
    },
    {
     "data": {
      "text/plain": [
       "1.0"
      ]
     },
     "execution_count": 58,
     "metadata": {},
     "output_type": "execute_result"
    }
   ],
   "source": [
    "print(int(1.7945))\n",
    "np.floor(1.7945)"
   ]
  },
  {
   "cell_type": "code",
   "execution_count": 56,
   "metadata": {},
   "outputs": [
    {
     "name": "stdout",
     "output_type": "stream",
     "text": [
      "\u001b[1m======================================= test session starts ========================================\u001b[0m\n",
      "platform linux -- Python 3.11.3, pytest-7.3.1, pluggy-1.0.0\n",
      "rootdir: /home/ting/Harvard_CS109/homeworks/hw0\n",
      "plugins: anyio-3.5.0\n",
      "collected 3 items\n",
      "\n",
      "t_1735af8c620a40ab9e61889376a9c7a3.py \u001b[32m.\u001b[0m\u001b[32m.\u001b[0m\u001b[32m.\u001b[0m\u001b[32m                                                    [100%]\u001b[0m\n",
      "\n",
      "\u001b[32m======================================== \u001b[32m\u001b[1m3 passed\u001b[0m\u001b[32m in 0.01s\u001b[0m\u001b[32m =========================================\u001b[0m\n"
     ]
    },
    {
     "name": "stderr",
     "output_type": "stream",
     "text": [
      "ipytest.clean_tests is deprecated in favor of ipytest.clean\n"
     ]
    },
    {
     "data": {
      "text/plain": [
       "<ExitCode.OK: 0>"
      ]
     },
     "execution_count": 56,
     "metadata": {},
     "output_type": "execute_result"
    }
   ],
   "source": [
    "ipytest.clean_tests(\"test_throw_a_coin*\")\n",
    "\n",
    "def test_throw_a_coin_positive():\n",
    "    for i in range(20):\n",
    "        len(throw_a_coin_properly(i)) == i\n",
    "\n",
    "def test_throw_a_coin_float():\n",
    "    for i in np.random.exponential(7, size = 20):\n",
    "        len(throw_a_coin_properly(i)) == np.floor(i)\n",
    "\n",
    "def test_throw_a_coin_negative():\n",
    "    for i in range(-8,0):\n",
    "        len(throw_a_coin_properly(i)) == 0\n",
    "\n",
    "ipytest.run()"
   ]
  },
  {
   "cell_type": "code",
   "execution_count": 65,
   "metadata": {},
   "outputs": [
    {
     "name": "stdout",
     "output_type": "stream",
     "text": [
      "\u001b[1m======================================= test session starts ========================================\u001b[0m\n",
      "platform linux -- Python 3.11.3, pytest-7.3.1, pluggy-1.0.0\n",
      "rootdir: /home/ting/Harvard_CS109/homeworks/hw0\n",
      "plugins: anyio-3.5.0\n",
      "collected 1 item\n",
      "\n",
      "t_1735af8c620a40ab9e61889376a9c7a3.py \u001b[32m.\u001b[0m\u001b[32m                                                      [100%]\u001b[0m\n",
      "\n",
      "\u001b[32m======================================== \u001b[32m\u001b[1m1 passed\u001b[0m\u001b[32m in 0.01s\u001b[0m\u001b[32m =========================================\u001b[0m\n"
     ]
    },
    {
     "name": "stderr",
     "output_type": "stream",
     "text": [
      "ipytest.clean_tests is deprecated in favor of ipytest.clean\n"
     ]
    },
    {
     "data": {
      "text/plain": [
       "<ExitCode.OK: 0>"
      ]
     },
     "execution_count": 65,
     "metadata": {},
     "output_type": "execute_result"
    }
   ],
   "source": [
    "ipytest.clean_tests(\"test_throw_a_coin*\")\n",
    "\n",
    "def test_throw_a_coin_elements():\n",
    "    for i in np.arange(1,20,1):\n",
    "        np.all(np.isin(throw_a_coin_properly(5), [\"H\",\"T\"]))\n",
    "\n",
    "ipytest.run()\n"
   ]
  },
  {
   "cell_type": "code",
   "execution_count": 38,
   "metadata": {
    "button": false,
    "new_sheet": false,
    "run_control": {
     "read_only": false
    }
   },
   "outputs": [],
   "source": [
    "# your code here\n",
    "def throw_a_coin_properly(n_trials):\n",
    "    n = int(n_trials)    \n",
    "    if n < 0: n = 0       \n",
    "    return np.random.choice(['H', 'T'], size=n)\n",
    "    "
   ]
  },
  {
   "cell_type": "code",
   "execution_count": 39,
   "metadata": {
    "button": false,
    "new_sheet": false,
    "run_control": {
     "read_only": false
    }
   },
   "outputs": [
    {
     "name": "stderr",
     "output_type": "stream",
     "text": [
      "unittest.case.FunctionTestCase (test_throw_a_coin_properly_float) ... ok\n",
      "unittest.case.FunctionTestCase (test_throw_a_coin_properly_length_positive) ... ok\n",
      "unittest.case.FunctionTestCase (test_throw_a_coin_properly_length_zero) ... ok\n",
      "unittest.case.FunctionTestCase (test_throw_a_coin_properly_negative) ... ok\n",
      "\n",
      "----------------------------------------------------------------------\n",
      "Ran 4 tests in 0.004s\n",
      "\n",
      "OK\n"
     ]
    }
   ],
   "source": [
    "ipytest.clean_tests(\"test_throw_a_coin*\")\n",
    "\n",
    "def test_throw_a_coin_properly_length_positive():\n",
    "    for n in range(1,20):\n",
    "        assert len(throw_a_coin_properly(n)) == n\n",
    "        \n",
    "\n",
    "def test_throw_a_coin_properly_length_zero():\n",
    "    ## should be the empty array\n",
    "    assert len(throw_a_coin_properly(0)) == 0\n",
    "    \n",
    "\n",
    "def test_throw_a_coin_properly_float():\n",
    "    \n",
    "    for n in np.random.exponential(7, size=5):\n",
    "        assert len(throw_a_coin_properly(n)) == np.floor(n)\n",
    "        \n",
    "\n",
    "def test_throw_a_coin_properly_negative():\n",
    "    \n",
    "    for n in range(-7, 0):\n",
    "        assert len(throw_a_coin_properly(n)) == 0\n",
    "\n",
    "        \n",
    "ipytest.run_tests()"
   ]
  },
  {
   "cell_type": "markdown",
   "metadata": {
    "button": false,
    "new_sheet": false,
    "run_control": {
     "read_only": false
    }
   },
   "source": [
    "**5.2** "
   ]
  },
  {
   "cell_type": "code",
   "execution_count": 40,
   "metadata": {
    "button": false,
    "new_sheet": false,
    "run_control": {
     "read_only": false
    }
   },
   "outputs": [
    {
     "name": "stderr",
     "output_type": "stream",
     "text": [
      "unittest.case.FunctionTestCase (test_throw_a_coin_properly_verify_H_T) ... ok\n",
      "\n",
      "----------------------------------------------------------------------\n",
      "Ran 1 test in 0.003s\n",
      "\n",
      "OK\n"
     ]
    }
   ],
   "source": [
    "ipytest.clean_tests(\"test_throw_a_coin*\")\n",
    "\n",
    "## write a test that verifies you don't have any other elements except H's and T's\n",
    "def test_throw_a_coin_properly_verify_H_T():\n",
    "    \n",
    "    # your code here\n",
    "    \n",
    "    #randomly generate throws\n",
    "    throws = 25 * np.random.randn(10)\n",
    "    \n",
    "    for throw in throws:\n",
    "        assert np.all(np.isin(throw_a_coin_properly(throw), ['H', 'T']))\n",
    "        \n",
    "        \n",
    "ipytest.run_tests()"
   ]
  }
 ],
 "metadata": {
  "anaconda-cloud": {},
  "kernelspec": {
   "display_name": "Python 3",
   "language": "python",
   "name": "python3"
  },
  "language_info": {
   "codemirror_mode": {
    "name": "ipython",
    "version": 3
   },
   "file_extension": ".py",
   "mimetype": "text/x-python",
   "name": "python",
   "nbconvert_exporter": "python",
   "pygments_lexer": "ipython3",
   "version": "3.11.3"
  }
 },
 "nbformat": 4,
 "nbformat_minor": 2
}
